{
  "nbformat": 4,
  "nbformat_minor": 0,
  "metadata": {
    "colab": {
      "name": "Copy of Food Nutrition.ipynb",
      "provenance": [],
      "collapsed_sections": [],
      "include_colab_link": true
    },
    "kernelspec": {
      "name": "python3",
      "display_name": "Python 3"
    },
    "language_info": {
      "name": "python"
    }
  },
  "cells": [
    {
      "cell_type": "markdown",
      "metadata": {
        "id": "view-in-github",
        "colab_type": "text"
      },
      "source": [
        "<a href=\"https://colab.research.google.com/github/Manav0702/ESDproject/blob/main/Copy_of_Food_Nutrition.ipynb\" target=\"_parent\"><img src=\"https://colab.research.google.com/assets/colab-badge.svg\" alt=\"Open In Colab\"/></a>"
      ]
    },
    {
      "cell_type": "code",
      "execution_count": null,
      "metadata": {
        "id": "s9Gib-JVGC2f"
      },
      "outputs": [],
      "source": [
        "import numpy as np\n",
        "import pandas as pd\n",
        "import matplotlib.pyplot as plt\n",
        "import seaborn as sns\n",
        "from sklearn.preprocessing import LabelEncoder"
      ]
    },
    {
      "cell_type": "code",
      "source": [
        "df=pd.read_csv('nutrients_csvfile.csv')"
      ],
      "metadata": {
        "id": "vOI4DmSpGctc"
      },
      "execution_count": null,
      "outputs": []
    },
    {
      "cell_type": "code",
      "source": [
        "print(df.to_string())"
      ],
      "metadata": {
        "colab": {
          "base_uri": "https://localhost:8080/"
        },
        "id": "g6DyqxSDGyfe",
        "outputId": "7153e646-c26b-423b-f41b-9a1f7b4a01d2"
      },
      "execution_count": null,
      "outputs": [
        {
          "output_type": "stream",
          "name": "stdout",
          "text": [
            "                                         Food        Measure  Grams Calories Protein  Fat Sat.Fat  Fiber Carbs                          Category\n",
            "0                                  Cows' milk          1 qt.    976      660      32   40      36      0    48                    Dairy products\n",
            "1                                   Milk skim          1 qt.    984      360      36    t       t      0    52                    Dairy products\n",
            "2                                  Buttermilk          1 cup    246      127       9    5       4      0    13                    Dairy products\n",
            "3                       Evaporated, undiluted          1 cup    252      345      16   20      18      0    24                    Dairy products\n",
            "4                              Fortified milk         6 cups  1,419    1,373      89   42      23    1.4   119                    Dairy products\n",
            "5                               Powdered milk          1 cup    103      515      27   28      24      0    39                    Dairy products\n",
            "6                               skim, instant     1 1/3 cups     85      290      30    t       t      0    42                    Dairy products\n",
            "7                           skim, non-instant        2/3 cup     85      290      30    t       t      1    42                    Dairy products\n",
            "8                                 Goats' milk          1 cup    244      165       8   10       8      0    11                    Dairy products\n",
            "9                         (1/2 cup ice cream)         2 cups    540      690      24   24      22      0    70                    Dairy products\n",
            "10                                      Cocoa          1 cup    252      235       8   11      10      0    26                    Dairy products\n",
            "11                                 skim. milk          1 cup    250      128      18    4       3      1    13                    Dairy products\n",
            "12                               (cornstarch)          1 cup    248      275       9   10       9      0    40                    Dairy products\n",
            "13                                    Custard          1 cup    248      285      13   14      11      0    28                    Dairy products\n",
            "14                                  Ice cream          1 cup    188      300       6   18      16      0    29                    Dairy products\n",
            "15                                   Ice milk          1 cup    190      275       9   10       9      0    32                    Dairy products\n",
            "16                     Cream or half-and-half        1/2 cup    120      170       4   15      13      0     5                    Dairy products\n",
            "17                                or whipping        1/2 cup    119      430       2   44      27      1     3                    Dairy products\n",
            "18                                     Cheese          1 cup    225      240      30   11      10      0     6                    Dairy products\n",
            "19                                  uncreamed          1 cup    225      195      38    t       t      0     6                    Dairy products\n",
            "20                                    Cheddar     1-in. cube     17       70       4    6       5      0     t                    Dairy products\n",
            "21                        Cheddar, grated cup        1/2 cup     56      226      14   19      17      0     1                    Dairy products\n",
            "22                               Cream cheese          1 oz.     28      105       2   11      10      0     1                    Dairy products\n",
            "23                           Processed cheese          1 oz.     28      105       7    9       8      0     t                    Dairy products\n",
            "24                             Roquefort type          1 oz.     28      105       6    9       8      0     t                    Dairy products\n",
            "25                                      Swiss          1 oz.     28      105       7    8       7      0     t                    Dairy products\n",
            "26                                   Eggs raw              2    100      150      12   12      10      0     t                    Dairy products\n",
            "27                    Eggs Scrambled or fried              2    128      220      13   16      14      0     1                    Dairy products\n",
            "28                                      Yolks              2     34      120       6   10       8      0     t           Fats, Oils, Shortenings\n",
            "29                                     Butter            1T.     14      100       t   11      10      0     t           Fats, Oils, Shortenings\n",
            "30                                     Butter        1/2 cup    112      113     114  115     116    117   118           Fats, Oils, Shortenings\n",
            "31                                     Butter        1/4 lb.    112      113     114  115     116    117   118           Fats, Oils, Shortenings\n",
            "32                   Hydrogenated cooking fat        1/2 cup    100      665       0  100      88      0     0           Fats, Oils, Shortenings\n",
            "33                                       Lard        1/2 cup    110      992       0  110      92      0     0           Fats, Oils, Shortenings\n",
            "34                                  Margarine        1/2 cup    112      806       t   91      76      0     t           Fats, Oils, Shortenings\n",
            "35                        Margarine, 2 pat or           1 T.     14      100       t   11       9      0     t           Fats, Oils, Shortenings\n",
            "36                                 Mayonnaise           1 T.     15      110       t   12       5      0     t           Fats, Oils, Shortenings\n",
            "37                                   Corn oil           1 T.     14      125       0   14       5      0     0           Fats, Oils, Shortenings\n",
            "38                                  Olive oil            1T.     14      125       0   14       3      0     0           Fats, Oils, Shortenings\n",
            "39                         Safflower seed oil           1 T.     14      125       0   14       3      0     0           Fats, Oils, Shortenings\n",
            "40                            French dressing           1 T.     15       60       t    6       2      0     2           Fats, Oils, Shortenings\n",
            "41                      Thousand Island sauce           1 T.     15       75       t    8       3      0     1           Fats, Oils, Shortenings\n",
            "42                                  Salt pork          2 oz.     60      470       3   55     NaN      0     0                     Meat, Poultry\n",
            "43                                      Bacon       2 slices     16       95       4    8       7      0     1                     Meat, Poultry\n",
            "44                                       Beef          3 oz.     85      245      23   16      15      0     0                     Meat, Poultry\n",
            "45                                  Hamburger          3 oz.     85      245      21   17      15      0     0                     Meat, Poultry\n",
            "46                                Ground lean          3 oz.     85      185      24   10       9      0     0                     Meat, Poultry\n",
            "47                                 Roast beef          3 oz.     85      390      16   36      35      0     0                     Meat, Poultry\n",
            "48                                      Steak          3 oz.     85      330      20   27      25      0     0                     Meat, Poultry\n",
            "49                      Steak, lean, as round          3 oz.     85      220      24   12      11      0     0                     Meat, Poultry\n",
            "50                                Corned beef          3 oz.     85      185      22   10       9      0     0                     Meat, Poultry\n",
            "51                    Corned beef hash canned          3 oz.     85      120      12    8       7      t     6                     Meat, Poultry\n",
            "52                     Corned beef hash Dried          2 oz.     56      115      19    4       4      0     0                     Meat, Poultry\n",
            "53                                    Pot-pie          1 pie    227      480      18   28      25      t    32                     Meat, Poultry\n",
            "54                      Corned beef hash Stew          1 cup    235      185      15   10       9      t    15                     Meat, Poultry\n",
            "55                                    chicken          3 oz.     85      185      23    9       7      0     0                     Meat, Poultry\n",
            "56     Fried, breast or leg and thigh chicken          3 oz.     85      245      25   15      11      0     0                     Meat, Poultry\n",
            "57                            Roasted chicken      3 1/2 oz.    100      290      25   20      16      0     0                     Meat, Poultry\n",
            "58                      Chicken livers, fried         3 med.    100      140      22   14      12      0  2.30                     Meat, Poultry\n",
            "59                             Duck, domestic      3 1/2 oz.    100      370      16   28       0      0     0                     Meat, Poultry\n",
            "60                        Lamb, chop, broiled          4 oz.    115      480      24   35      33      0     0                     Meat, Poultry\n",
            "61                                Leg roasted          3 oz.     86      314      20   14      14      0     0                     Meat, Poultry\n",
            "62                          Shoulder, braised          3 oz.     85      285      18   23      21      0     0                     Meat, Poultry\n",
            "63                        Pork, chop, 1 thick      3 1/2 oz.    100      260      16   21      18      0     0                     Meat, Poultry\n",
            "64                            Ham pan-broiled          3 oz.     85      290      16   22      19      0     0                     Meat, Poultry\n",
            "65                                   Ham, as           2 oz.     57      170      13   13      11      0     0                     Meat, Poultry\n",
            "66                        Ham, canned, spiced          2 oz.     57      165       8   14      12      0     1                     Meat, Poultry\n",
            "67                                 Pork roast          3 oz.     85      310      21   24      21      0     0                     Meat, Poultry\n",
            "68                               Pork sausage      3 1/2 oz.    100      475      18   44      40      0     0                     Meat, Poultry\n",
            "69                                     Turkey      3 1/2 oz.    100      265      27   15       0      0     0                     Meat, Poultry\n",
            "70                                       Veal          3 oz.     85      185      23    9       8      0     0                     Meat, Poultry\n",
            "71                                      Roast          3 oz.     85      305      13   14      13      0     0                     Meat, Poultry\n",
            "72                                      Clams          3 oz.     85       87      12    1       0      0     2                     Fish, Seafood\n",
            "73                                        Cod      3 1/2 oz.    100      170      28    5       0      0     0                     Fish, Seafood\n",
            "74                                  Crab meat          3 oz.     85       90      14    2       0      0     1                     Fish, Seafood\n",
            "75                          Fish sticks fried              5    112      200      19   10       5      0     8                     Fish, Seafood\n",
            "76                                   Flounder      3 1/2 oz.    100      200      30    8       0      0     0                     Fish, Seafood\n",
            "77                                    Haddock          3 oz.     85      135      16    5       4      0     6                     Fish, Seafood\n",
            "78                                    Halibut      3 1/2 oz.    100      182      26    8       0      0     0                     Fish, Seafood\n",
            "79                                    Herring        1 small    100      211      22   13       0      0     0                     Fish, Seafood\n",
            "80                                    Lobster          aver.    100       92      18    1       0      0     t                     Fish, Seafood\n",
            "81                                   Mackerel          3 oz.     85      155      18    9       0      a     0                     Fish, Seafood\n",
            "82                                    Oysters       6-8 med.    230      231     232  233     234    235   236                     Fish, Seafood\n",
            "83                                Oyster stew          1 cup     85      125      19    6       1      0     0                     Fish, Seafood\n",
            "84                                     Salmon          3 oz.     85      120      17    5       1      0     0                     Fish, Seafood\n",
            "85                                   Sardines          3 oz.     85      180      22    9       4      0     0                     Fish, Seafood\n",
            "86                                   Scallops      3 1/2 oz.    100      104      18    8       0      0    10                     Fish, Seafood\n",
            "87                                       Shad          3 oz.     85      170      20   10       0      0     0                     Fish, Seafood\n",
            "88                                     Shrimp          3 oz.     85      110      23    1       0      0     0                     Fish, Seafood\n",
            "89                                  Swordfish        1 steak    100      180      27    6       0      0     0                     Fish, Seafood\n",
            "90                                       Tuna          3 oz.     85      170      25    7       3      0     0                     Fish, Seafood\n",
            "91                                  Artichoke        1 large    100     8-44       2    t       t      2    10                    Vegetables A-E\n",
            "92                                  Asparagus       6 spears     96       18       1    t       t    0.5     3                    Vegetables A-E\n",
            "93                                      Beans          1 cup    125       25       1    t       t    0.8     6                    Vegetables A-E\n",
            "94                                       Lima          1 cup    160      140       8    t       t    3.0    24                    Vegetables A-E\n",
            "95                          Lima, dry, cooked          1 cup    192      260      16    t       t      2    48                    Vegetables A-E\n",
            "96                      Navy, baked with pork        3/4 cup    200      250      11    6       6      2    37                    Vegetables A-E\n",
            "97                                 Red kidney          1 cup    260      230      15    1       0    2.5    42                    Vegetables A-E\n",
            "98                               Bean sprouts          1 cup     50       17       1    t       0    0.3     3                    Vegetables A-E\n",
            "99                                Beet greens          1 cup    100       27       2    t       0    1.4     6                    Vegetables A-E\n",
            "100                                 Beetroots          1 cup    165        1      12    0     NaN      t  0.80                    Vegetables A-E\n",
            "101                                  Broccoli          1 cup    150       45       5    t       0    1.9     8                    Vegetables A-E\n",
            "102                          Brussels sprouts          1 cup    130       60       6    t       0    1.7    12                    Vegetables A-E\n",
            "103                                Sauerkraut          1 cup    150       32       1    t       0    1.2     7                    Vegetables A-E\n",
            "104                           Steamed cabbage          1 cup    170       40       2    t       0    1.3     9                    Vegetables A-E\n",
            "105                                   Carrots          1 cup    150       45       1    t       0    0.9    10                    Vegetables A-E\n",
            "106                               Raw, grated          1 cup    110       45       1    t       0    1.2    10                    Vegetables A-E\n",
            "107                          Strips, from raw         1 mad.     50       20       t    t       0    0.5     5                    Vegetables A-E\n",
            "108                               Cauliflower          1 cup    120       30       3    t       0      1     6                    Vegetables A-E\n",
            "109                                    Celery          1 cup    100       20       1    t       0      1     4                    Vegetables A-E\n",
            "110                                 Stalk raw        1 large     40        5       1    t       0    0.3     1                    Vegetables A-E\n",
            "111                             Chard steamed          1 cup    150       30       2    t       0    1.4     7                    Vegetables A-E\n",
            "112                                  Collards          1 cup    150       51       5    t       0      2     8                    Vegetables A-E\n",
            "113                                      Corn          1 ear    100       92       3    1       t    0.8    21                    Vegetables A-E\n",
            "114                          cooked or canned          1 cup    200      170       5    t       0    1.6    41                    Vegetables A-E\n",
            "115                                 Cucumbers              8     50        6       t    0       0    0.2     1                    Vegetables A-E\n",
            "116                          Dandelion greens          1 cup    180       80       5    1       0    3.2    16                    Vegetables A-E\n",
            "117                                  Eggplant          1 cup    180       30       2    t       0    1.0     9                    Vegetables A-E\n",
            "118                                    Endive          2 oz.     57       10       1    t       0    0.6     2                    Vegetables A-E\n",
            "119                                      Kale          1 cup    110       45       4    1       0    0.9     8                    Vegetables F-P\n",
            "120                                  Kohlrabi          1 cup    140       40       2    t       0    1.5     9                    Vegetables F-P\n",
            "121                   Lambs quarters, steamed          1 cup    150       48       5    t       0    3.2     7                    Vegetables F-P\n",
            "122                                   Lentils          1 cup    200      212      15    t       0    2.4    38                    Vegetables F-P\n",
            "123                                   Lettuce       1/4 head    100       14       1    t       0    0.5     2                    Vegetables F-P\n",
            "124                                   Iceberg       1/4 head    100       13       t    t       0    0.5     3                    Vegetables F-P\n",
            "125                          Mushrooms canned              4    120       12       2    t       0      t     4                    Vegetables F-P\n",
            "126                            Mustard greens              1    140       30       3    t       0    1.2     6                    Vegetables F-P\n",
            "127                                      Okra     1 1/3 cups    100       32       1    t       0      1     7                    Vegetables F-P\n",
            "128                                    Onions              1    210       80       2    t       0    1.6    18                    Vegetables F-P\n",
            "129                                Raw, green        6 small     50       22       t    t       0      1     5                    Vegetables F-P\n",
            "130                                   Parsley           2 T.     50        2       t    t       0      t     t                    Vegetables F-P\n",
            "131                                  Parsnips          1 cup    155       95       2    1       0      3    22                    Vegetables F-P\n",
            "132                                      Peas          1 cup    100       66       3    t       0    0.1    13                    Vegetables F-P\n",
            "133                       Fresh, steamed peas          1 cup    100       70       5    t       0    2.2    12                    Vegetables R-Z\n",
            "134                               Frozen peas          1 cup    100      NaN       5    t       0    1.8    12                    Vegetables R-Z\n",
            "135                         Split cooked peas         4 cups    100      115       8    t       0    0.4    21                    Vegetables R-Z\n",
            "136                               heated peas          1 cup    100       53       3    t       0      1    10                    Vegetables R-Z\n",
            "137                            Peppers canned          1 pod     38       10       t    t       0      t     2                    Vegetables R-Z\n",
            "138                 Peppers Raw, green, sweet        1 large    100       25       1    t       0    1.4     6                    Vegetables R-Z\n",
            "139              Peppers with beef and crumbs         1 med.    150      255      19    9       8      1    24                    Vegetables R-Z\n",
            "140                           Potatoes, baked         1 med.    100      100       2    t       0    0.5    22                    Vegetables R-Z\n",
            "141                              French-fried      10 pieces     60      155      -1    7       3    0.4    20                    Vegetables R-Z\n",
            "142      Potatoes Mashed with milk and butter          1 cup    200      230       4   12      11    0.7    28                    Vegetables R-Z\n",
            "143                       Potatoes, pan-tried        3/4 cup    100      268       4   14       6   0.40    33                    Vegetables R-Z\n",
            "144            Scalloped with cheese potatoes        3/4 cup    100      145       6    8       7   0.40    14                    Vegetables R-Z\n",
            "145           Steamed potatoes before peeling         1 med.    100       80       2    t       0   0.40    19                    Vegetables R-Z\n",
            "146                              Potato chips             10     20      110       1    7       4      t    10                    Vegetables R-Z\n",
            "147                                  Radishes        5 small     50       10       t    0       0    0.3     2                    Vegetables R-Z\n",
            "148                                 Rutabagas         4 cups    100       32       t    0       0    1.4     8                    Vegetables R-Z\n",
            "149                                  Soybeans          1 cup    200      260      22   11       0    3.2    20                    Vegetables R-Z\n",
            "150                                   Spinach          1 cup    100       26       3    t       0      1     3                    Vegetables R-Z\n",
            "151                                    Squash          1 cup    210       35       1    t       0    0.6     8                    Vegetables R-Z\n",
            "152                            Winter, mashed          1 cup    200       95       4    t       0    2.6    23                    Vegetables R-Z\n",
            "153                            Sweet potatoes         1 med.    110      155       2    1       0      1    36                    Vegetables R-Z\n",
            "154                                   Candied         1 med.    175      235       2    6       5    1.5    80                    Vegetables R-Z\n",
            "155                                  Tomatoes          1 cup    240       50       2    t       0      1     9                    Vegetables R-Z\n",
            "156                           Raw, 2 by 2 1/2         1 med.    150       30       1    t       0    0.6     6                    Vegetables R-Z\n",
            "157                              Tomato juice          1 cup    240       50       2    t       0    0.6    10                    Vegetables R-Z\n",
            "158                             Tomato catsup           1 T.     17       15       t    t       0      t     4                    Vegetables R-Z\n",
            "159                             Turnip greens          1 cup    145       45       4    1       0    1.8     8                    Vegetables R-Z\n",
            "160                          Turnips, steamed          1 cup    155       40       1    t       0    1.8     9                    Vegetables R-Z\n",
            "161                     Watercress stems, raw          1 cup     50        9       1    t       0    0.3     1                        Fruits A-F\n",
            "162                        Apple juice canned          1 cup    250      125       t    0       0      0    34                        Fruits A-F\n",
            "163                             Apple vinegar        1/3 cup    100       14       t    0       0      0     3                        Fruits A-F\n",
            "164                               Apples, raw          1 med    130       70       t    t       0      1    18                        Fruits A-F\n",
            "165                          Stewed or canned          1 cup    240      100       t    t       0      2    26                        Fruits A-F\n",
            "166                                  Apricots          1 cup    250      220       2    t       0      1    57                        Fruits A-F\n",
            "167                           Dried, uncooked        1/2 cup     75      220       4    t       0      1    50                        Fruits A-F\n",
            "168                                     Fresh         3 med.    114       55       1    t       0   0.70    14                        Fruits A-F\n",
            "169                          Nectar, or juice          1 cup    250      140       1    t       0      2    36                        Fruits A-F\n",
            "170                                   Avocado      1/2 large    108      185       2   18      12   1.80     6                        Fruits A-F\n",
            "171                                    Banana         1 med.    150       85       1    t       0    0.9    23                        Fruits A-F\n",
            "172                              Blackberries          1 cup    144       85       2    1       0   6.60    19                        Fruits A-F\n",
            "173                               Blueberries          1 cup    250      245       1    t       0      2    65                        Fruits A-F\n",
            "174                                Cantaloupe       1/2 med.    380       40       1    t       0   2.20     9                        Fruits A-F\n",
            "175                                  Cherries          1 cup    257      100       2    1       0      2    26                        Fruits A-F\n",
            "176                                Fresh, raw          1 cup    114       65       1    t       0    0.8    15                        Fruits A-F\n",
            "177                 Cranberry sauce sweetened          1 cup    277      530       t    t       0    1.2   142                        Fruits A-F\n",
            "178                                     Dates          1 cup    178      505       4    t       0    3.6   134                        Fruits A-F\n",
            "179                                      Figs              2     42      120       2    t       0    1.9    30                        Fruits A-F\n",
            "180                           Fresh, raw figs         3 med.    114       90       2    t       0      1    22                        Fruits A-F\n",
            "181                   figs Canned with syrup               3    115      130       1    t       0      1    32                        Fruits A-F\n",
            "182                    Fruit cocktail, canned          1 cup    256      195       1    t       0    0.5    50                        Fruits A-F\n",
            "183                       Grapefruit sections          1 cup    250      170       1    t       0    0.5    44                        Fruits G-P\n",
            "184            Grapefruit, fresh, 5\" diameter            1/2    285       50       1    t       t      1    14                        Fruits G-P\n",
            "185                          Grapefruit juice          1 cup    250      100       1    t       0      1    24                        Fruits G-P\n",
            "186                                    Grapes          1 cup    153       70       1    t       0    0.8    16                        Fruits G-P\n",
            "187                European, as Muscat, Tokay          1 cup    160      100       1    t       0    0.7    26                        Fruits G-P\n",
            "188                               Grape juice          1 cup    250      160       1    t       0      t    42                        Fruits G-P\n",
            "189                               Lemon juice        1/2 cup    125       30       t    t       0      t    10                        Fruits G-P\n",
            "190                Lemonade concentratefrozen      6-oz. can    220      430       t    t       0      t   112                        Fruits G-P\n",
            "191                Limeade concentrate frozen      6-oz. can    218      405       t    t       0      t   108                        Fruits G-P\n",
            "192                              Olives large             10     65       72       1   10       9    0.8     3                        Fruits G-P\n",
            "193                                OlivesRipe             10     65      105       1   13      12      1     1                        Fruits G-P\n",
            "194                       Oranges 3\" diameter         1 med.    180       60       2    t       t      1    16                        Fruits G-P\n",
            "195                              Orange juice       8 oz. or    250      112       2    t       0    0.2    25                        Fruits G-P\n",
            "196                                   Frozen       6-oz. can    210      330       2    t       t    0.4    78                        Fruits G-P\n",
            "197                                    Papaya       1/2 med.    200       75       1    t       0    1.8    18                        Fruits G-P\n",
            "198                                   Peaches          1 cup    257      200       1    t       0      1    52                        Fruits G-P\n",
            "199                                Fresh, raw         1 med.    114       35       1    t       0    0.6    10                        Fruits G-P\n",
            "200                                     Pears          1 cup    255      195       1    t       0      2    50                        Fruits G-P\n",
            "201                              Raw, 3 by 2V         1 med.    182      100       1    1       0      2    25                        Fruits G-P\n",
            "202                                Persimmons         1 med.    125       75       1    t       0      2    20                        Fruits G-P\n",
            "203                                 Pineapple  1 large slice    122       95       t    t       0    0.4    26                        Fruits G-P\n",
            "204                         Pineapple Crushed          1 cup    260      205       1    t       0    0.7    55                        Fruits G-P\n",
            "205                                Raw, diced          1 cup    140       75       1   t'       0    0.6    19                        Fruits G-P\n",
            "206                           Pineapple juice          1 cup    250      120       1    t       0    0.2    32                        Fruits G-P\n",
            "207                                     Plums          1 cup    256      185       1    t       0    0.7    50                        Fruits G-P\n",
            "208                          Raw, 2\" diameter              1     60       30       t    t       0    0.2     7                        Fruits G-P\n",
            "209                                    Prunes          1 cup    270      300       3    1       0    0.8    81                        Fruits G-P\n",
            "210                               Prune juice          1 cup    240      170       1    t       0    0.7    45                        Fruits G-P\n",
            "211                                   Raisins        1/2 cup     88      230       2    t       0    0.7    82                        Fruits R-Z\n",
            "212                               Raspberries        1/2 cup    100      100       t    t       0      2    25                        Fruits R-Z\n",
            "213                                  Raw, red        3/4 cup    100       57       t    t       0      5    14                        Fruits R-Z\n",
            "214                         Rhubarb sweetened          1 cup    270      385       1    t       0    1.9    98                        Fruits R-Z\n",
            "215                              Strawberries          1 cup    227      242       1    t       0    1.3    60                        Fruits R-Z\n",
            "216                                       Raw          1 cup    149       54       t    t       0    1.9    12                        Fruits R-Z\n",
            "217                                Tangerines         I med.    114       40       1    t       0      1    10                        Fruits R-Z\n",
            "218                                Watermelon        1 wedge    925      120       2    1       0    3.6    29                        Fruits R-Z\n",
            "219                                  Biscuits              1     38      130       3    4       3      t    18  Breads, cereals, fastfood,grains\n",
            "220                               Bran flakes          1 cup     25      117       3    t       0   0.10    32  Breads, cereals, fastfood,grains\n",
            "221                      Bread, cracked wheat        1 slice     23       60       2    1       1   0.10    12  Breads, cereals, fastfood,grains\n",
            "222                                       Rye        1 slice     23       55       2    1       1   0.10    12  Breads, cereals, fastfood,grains\n",
            "223                      White, 20 slices, or     1-lb. loaf    454    1,225      39   15      12   9.00   229  Breads, cereals, fastfood,grains\n",
            "224                               Whole-wheat     1-lb. loaf    454    1,100      48   14      10  67.50   216  Breads, cereals, fastfood,grains\n",
            "225                               Whole-wheat        1 slice     23       55       2    1       0   0.31    11  Breads, cereals, fastfood,grains\n",
            "226                    Corn bread ground meal      1 serving     50      100       3    4       2   0.30    15  Breads, cereals, fastfood,grains\n",
            "227                                Cornflakes          1 cup     25      110       2    t       0    0.1    25  Breads, cereals, fastfood,grains\n",
            "228                         Corn grits cooked          1 cup    242      120       8    t       0    0.2    27  Breads, cereals, fastfood,grains\n",
            "229                                 Corn meal          1 cup    118      360       9    4       2    1.6    74  Breads, cereals, fastfood,grains\n",
            "230                                  Crackers         2 med.     14       55       1    1       0      t    10  Breads, cereals, fastfood,grains\n",
            "231                        Soda, 2 1/2 square              2     11       45       1    1       0      t     8  Breads, cereals, fastfood,grains\n",
            "232                                    Farina          1 cup    238      105       3    t       0      8    22  Breads, cereals, fastfood,grains\n",
            "233                                     Flour          1 cup    110      460      39   22       0    2.9    33  Breads, cereals, fastfood,grains\n",
            "234                       Wheat (all purpose)          1 cup    110      400      12    1       0    0.3    84  Breads, cereals, fastfood,grains\n",
            "235                             Wheat (whole)          1 cup    120      390      13    2       0    2.8    79  Breads, cereals, fastfood,grains\n",
            "236                                  Macaroni          1 cup    140      155       5    1       0    0.1    32  Breads, cereals, fastfood,grains\n",
            "237                         Baked with cheese          1 cup    220      475      18   25      24      t    44  Breads, cereals, fastfood,grains\n",
            "238                                   Muffins              1     48      135       4    5       4      t    19  Breads, cereals, fastfood,grains\n",
            "239                                   Noodles          1 cup    160      200       7    2       2    0.1    37  Breads, cereals, fastfood,grains\n",
            "240                                   Oatmeal          1 cup    236      150       5    3       2    4.6    26  Breads, cereals, fastfood,grains\n",
            "241                         Pancakes 4\" diam.              4    108      250       7    9       0    0.1    28  Breads, cereals, fastfood,grains\n",
            "242                  Wheat, pancakes 4\" diam.              4    108      250       7    9       0    0.1    28  Breads, cereals, fastfood,grains\n",
            "243                           Pizza 14\" diam.      1 section     75      180       8    6       5      t    23  Breads, cereals, fastfood,grains\n",
            "244                            Popcorn salted         2 cups     28      152       3    7       2    0.5    20  Breads, cereals, fastfood,grains\n",
            "245                               Puffed rice          1 cup     14       55       t    t       0      t    12  Breads, cereals, fastfood,grains\n",
            "246                 Puffed wheat presweetened          1 cup     28      105       1    t       0    0.6    26  Breads, cereals, fastfood,grains\n",
            "247                                      Rice          1 cup    208      748      15    3       0    1.2   154  Breads, cereals, fastfood,grains\n",
            "248                                 Converted          1 cup    187      677      14    t       0    0.4   142  Breads, cereals, fastfood,grains\n",
            "249                                     White          1 cup    191      692      14    t       0    0.3   150  Breads, cereals, fastfood,grains\n",
            "250                               Rice flakes          1 cup     30      115       2    t       0    0.1    26  Breads, cereals, fastfood,grains\n",
            "251                               Rice polish        1/2 cup     50      132       6    6       0    1.2    28  Breads, cereals, fastfood,grains\n",
            "252                                     Rolls        1 large     50      411       3   12      11    0.1    23  Breads, cereals, fastfood,grains\n",
            "253                          of refined flour              1     38      115       3    2       2      t    20  Breads, cereals, fastfood,grains\n",
            "254                               whole-wheat              1     40      102       4    1       0    0.1    20  Breads, cereals, fastfood,grains\n",
            "255                 Spaghetti with meat sauce          1 cup    250      285      13   10       6   0.50    35  Breads, cereals, fastfood,grains\n",
            "256                  with tomatoes and cheese          1 cup    250      210       6    5       3   0.50    36  Breads, cereals, fastfood,grains\n",
            "257                              Spanish rice          1 cup    250      217       4    4       0   1.20    40  Breads, cereals, fastfood,grains\n",
            "258                    Shredded wheat biscuit              1     28      100       3    1       0   0.70    23  Breads, cereals, fastfood,grains\n",
            "259                                   Waffles              1     75      240       8    9       1   0.10    30  Breads, cereals, fastfood,grains\n",
            "260                                Wheat germ          1 cup     68      245      17    7       3   2.50    34  Breads, cereals, fastfood,grains\n",
            "261                 Wheat-germ cereal toasted          1 cup     65      260      20    7       3   2.50    36  Breads, cereals, fastfood,grains\n",
            "262               Wheat meal cereal unrefined        3/4 cup     30      103       4    1       0   0.70    25  Breads, cereals, fastfood,grains\n",
            "263                             Wheat, cooked        3/4 cup    200      275      12    1       0   4.40    35  Breads, cereals, fastfood,grains\n",
            "264                                Bean soups          1 cup    250      190       8    5       4   0.60    30                             Soups\n",
            "265                                 Beef soup          1 cup    250      100       6    4       4   0.50    11                             Soups\n",
            "266                                  Bouillon          1 cup    240       24       5    0       0      0     0                             Soups\n",
            "267                              chicken soup          1 cup    250       75       4    2       2      0    10                             Soups\n",
            "268                              Clam chowder          1 cup    255       85       5    2       8   0.50    12                             Soups\n",
            "269                               Cream soups          1 cup    255      200       7   12      11   1.20    18                             Soups\n",
            "270                                    Noodle          1 cup    250      115       6    4       3   0.20    13                             Soups\n",
            "271                            Split-pea soup          1 cup    250      147       8    3       3   0.50    25                             Soups\n",
            "272                               Tomato soup          1 cup    245      175       6    7       6   0.50    22                             Soups\n",
            "273                                 Vegetable          1 cup    250       80       4    2       2      0    14                             Soups\n",
            "274                               Apple betty      1 serving    100      150       1    4       0    0.5    29                  Desserts, sweets\n",
            "275                             Bread pudding        3/4 cup    200      374      11   12      11   0.20    56                  Desserts, sweets\n",
            "276                                     Cakes        1 slice     40      110       3    t       0      0    23                  Desserts, sweets\n",
            "277                           Chocolate fudge        1 slice    120      420       5   14      12    0.3    70                  Desserts, sweets\n",
            "278                                   Cupcake              1     50      160       3    3       2      t    31                  Desserts, sweets\n",
            "279                                Fruit cake        1 slice     30      105       2    4       3    0.2    17                  Desserts, sweets\n",
            "280                               Gingerbread        1 slice     55      180       2    7       6      t    28                  Desserts, sweets\n",
            "281                      Plain, with no icing        1 slice     55      180       4    5       4      t    31                  Desserts, sweets\n",
            "282                               Sponge cake        1 slice     40      115       3    2       2      0    22                  Desserts, sweets\n",
            "283                                     Candy              5     25      104       t    3       3      0    19                  Desserts, sweets\n",
            "284                          Chocolate creams              2     30      130       t    4       4      0    24                  Desserts, sweets\n",
            "285                                     Fudge       2 pieces     90      370       t   12      11    0.1    80                  Desserts, sweets\n",
            "286                              Hard candies          1 oz.     28       90       t    0       0      0    28                  Desserts, sweets\n",
            "287                              Marshmallows              5     30       98       1    0       0      0    23                  Desserts, sweets\n",
            "288                            Milk chocolate      2-oz. bar     56      290       2    6       6    0.2    44                  Desserts, sweets\n",
            "289                           Chocolate syrup           2 T.     40       80       t    t       t      0    22                  Desserts, sweets\n",
            "290                                 Doughnuts              1     33      135       2    7       4      t    17                  Desserts, sweets\n",
            "291                  Gelatin, made with water          1 cup    239      155       4    t       t      0    36                  Desserts, sweets\n",
            "292                                     Honey           2 T.     42      120       t    0       0      0    30                     Jams, Jellies\n",
            "293                                 Ice cream         2 cups    300      250       0    0      12     10     0                  Desserts, sweets\n",
            "294                                      Ices          1 cup    150      117       0    0       0      0    48                  Desserts, sweets\n",
            "295                                 preserves           1 T.     20       55       0    0       0      t    14                     Jams, Jellies\n",
            "296                                   Jellies           1 T.     20       50       0    0       0      0    13                     Jams, Jellies\n",
            "297                                  Molasses           1 T.     20       45       0    0       0      8    11                     Jams, Jellies\n",
            "298                                Cane Syrup           1 T.     20       50       0    0       0      0    13                     Jams, Jellies\n",
            "299                              9\" diam. pie        1 slice    135      330       3   13      11    0.1    53                  Desserts, sweets\n",
            "300                                Cherry Pie        1 slice    135      340       3   13      11    0.1    55                  Desserts, sweets\n",
            "301                                   Custard        1 slice    130      265       7   11      10      0    34                  Desserts, sweets\n",
            "302                            Lemon meringue        1 slice    120      300       4   12      10    0.1    45                  Desserts, sweets\n",
            "303                                     Mince        1 slice    135      340       3    9       8   0.70    62                  Desserts, sweets\n",
            "304                               Pumpkin Pie        1 slice    130      265       5   12      11      8    34                  Desserts, sweets\n",
            "305                            Puddings Sugar          1 cup    200      770       0    0       0      0   199                  Desserts, sweets\n",
            "306                         3 teaspoons sugar           1 T.     12       50       0    0       0      0    12                  Desserts, sweets\n",
            "307            Brown, firm-packed, dark sugar          1 cup    220      815       0    t       0      0   210                     Jams, Jellies\n",
            "308                                     Syrup           2 T.     40      100       0    0       0      0    25                     Jams, Jellies\n",
            "309                        table blends sugar           2 T.     40      110       0    0       0      0    29                     Jams, Jellies\n",
            "310                     Tapioca cream pudding          1 cup    250      335      10   10       9      0    42                  Desserts, sweets\n",
            "311                                   Almonds        1/2 cup     70      425      13   38      28    1.8    13                    Seeds and Nuts\n",
            "312                        roasted and salted        1/2 cup     70      439      13   40      31    1.8    13                    Seeds and Nuts\n",
            "313                               Brazil nuts        1/2 cup     70      457      10   47      31      2     7                    Seeds and Nuts\n",
            "314                                   Cashews        1/2 cup     70      392      12   32      28    0.9    20                    Seeds and Nuts\n",
            "315                         coconut sweetened        1/2 cup     50      274       1   20      19      2    26                    Seeds and Nuts\n",
            "316                             Peanut butter        1/3 cup     50      300      12   25      17    0.9     9                    Seeds and Nuts\n",
            "317                    Peanut butter, natural        1/3 cup     50      284      13   24      10    0.9     8                    Seeds and Nuts\n",
            "318                                   Peanuts        1/3 cup     50      290      13   25      16    1.2     9                    Seeds and Nuts\n",
            "319                                    Pecans        1/2 cup     52      343       5   35      25    1.1     7                    Seeds and Nuts\n",
            "320                              Sesame seeds        1/2 cup     50      280       9   24      13    3.1    10                    Seeds and Nuts\n",
            "321                           Sunflower seeds        1/2 cup     50      280      12   26       7    1.9    10                    Seeds and Nuts\n",
            "322                                   Walnuts        1/2 cup     50      325       7   32       7      1     8                    Seeds and Nuts\n",
            "323                                      Beer         2 cups    480      228       t    0       0      0     8         Drinks,Alcohol, Beverages\n",
            "324                                       Gin          1 oz.     28       70       0    0       0      0     t         Drinks,Alcohol, Beverages\n",
            "325                                     Wines        1/2 cup    120      164       t    0       0      0     9         Drinks,Alcohol, Beverages\n",
            "326                     Table (12.2% alcohol)        1/2 cup    120      100       t    0       0      0     5         Drinks,Alcohol, Beverages\n",
            "327  Carbonated drinks Artificially sweetened         12 oz.    346        0       0    0       0      0     0         Drinks,Alcohol, Beverages\n",
            "328                                 Club soda         12 oz.    346        0       0    0       0      0     0         Drinks,Alcohol, Beverages\n",
            "329                               Cola drinks         12 oz.    346      137       0    0       0      0    38         Drinks,Alcohol, Beverages\n",
            "330                       Fruit-flavored soda         12 oz.    346      161       0    0       0      0    42         Drinks,Alcohol, Beverages\n",
            "331                                Ginger ale         12 oz.    346      105       0    0       0      0    28         Drinks,Alcohol, Beverages\n",
            "332                                 Root beer         12 oz.    346      140       0    0       0      0    35         Drinks,Alcohol, Beverages\n",
            "333                                    Coffee          1 cup    230        3       t    0       0      0     1         Drinks,Alcohol, Beverages\n",
            "334                                       Tea          1 cup    230        4       0    t       0      0     1         Drinks,Alcohol, Beverages\n"
          ]
        }
      ]
    },
    {
      "cell_type": "code",
      "source": [
        "df.shape"
      ],
      "metadata": {
        "colab": {
          "base_uri": "https://localhost:8080/"
        },
        "id": "WvTtw2RwG6_3",
        "outputId": "ad270017-d5af-4789-92d5-c25279ee3f3d"
      },
      "execution_count": null,
      "outputs": [
        {
          "output_type": "execute_result",
          "data": {
            "text/plain": [
              "(335, 10)"
            ]
          },
          "metadata": {},
          "execution_count": 5
        }
      ]
    },
    {
      "cell_type": "code",
      "source": [
        "df.info()"
      ],
      "metadata": {
        "colab": {
          "base_uri": "https://localhost:8080/"
        },
        "id": "bAeIZeBdHgmz",
        "outputId": "ff49715b-29ef-48db-cf28-468fbd391afa"
      },
      "execution_count": null,
      "outputs": [
        {
          "output_type": "stream",
          "name": "stdout",
          "text": [
            "<class 'pandas.core.frame.DataFrame'>\n",
            "RangeIndex: 335 entries, 0 to 334\n",
            "Data columns (total 10 columns):\n",
            " #   Column    Non-Null Count  Dtype \n",
            "---  ------    --------------  ----- \n",
            " 0   Food      335 non-null    object\n",
            " 1   Measure   335 non-null    object\n",
            " 2   Grams     335 non-null    object\n",
            " 3   Calories  334 non-null    object\n",
            " 4   Protein   335 non-null    object\n",
            " 5   Fat       335 non-null    object\n",
            " 6   Sat.Fat   333 non-null    object\n",
            " 7   Fiber     335 non-null    object\n",
            " 8   Carbs     335 non-null    object\n",
            " 9   Category  335 non-null    object\n",
            "dtypes: object(10)\n",
            "memory usage: 26.3+ KB\n"
          ]
        }
      ]
    },
    {
      "cell_type": "code",
      "source": [
        "df.describe()"
      ],
      "metadata": {
        "colab": {
          "base_uri": "https://localhost:8080/",
          "height": 174
        },
        "id": "NZ91noTrRlZo",
        "outputId": "5106729c-df82-4913-ebdd-566a2e91a669"
      },
      "execution_count": null,
      "outputs": [
        {
          "output_type": "execute_result",
          "data": {
            "text/plain": [
              "          Food Measure Grams Calories Protein  Fat Sat.Fat Fiber Carbs  \\\n",
              "count      335     335   335      334     335  335     333   335   335   \n",
              "unique     329      61   103      152      40   45      38    57    80   \n",
              "top     Butter   1 cup   100      100       1    t       0     0     0   \n",
              "freq         3     120    38       14      53  115     174   116    45   \n",
              "\n",
              "                                Category  \n",
              "count                                335  \n",
              "unique                                16  \n",
              "top     Breads, cereals, fastfood,grains  \n",
              "freq                                  45  "
            ],
            "text/html": [
              "\n",
              "  <div id=\"df-eddd463e-c639-4758-805d-ef45bca1177e\">\n",
              "    <div class=\"colab-df-container\">\n",
              "      <div>\n",
              "<style scoped>\n",
              "    .dataframe tbody tr th:only-of-type {\n",
              "        vertical-align: middle;\n",
              "    }\n",
              "\n",
              "    .dataframe tbody tr th {\n",
              "        vertical-align: top;\n",
              "    }\n",
              "\n",
              "    .dataframe thead th {\n",
              "        text-align: right;\n",
              "    }\n",
              "</style>\n",
              "<table border=\"1\" class=\"dataframe\">\n",
              "  <thead>\n",
              "    <tr style=\"text-align: right;\">\n",
              "      <th></th>\n",
              "      <th>Food</th>\n",
              "      <th>Measure</th>\n",
              "      <th>Grams</th>\n",
              "      <th>Calories</th>\n",
              "      <th>Protein</th>\n",
              "      <th>Fat</th>\n",
              "      <th>Sat.Fat</th>\n",
              "      <th>Fiber</th>\n",
              "      <th>Carbs</th>\n",
              "      <th>Category</th>\n",
              "    </tr>\n",
              "  </thead>\n",
              "  <tbody>\n",
              "    <tr>\n",
              "      <th>count</th>\n",
              "      <td>335</td>\n",
              "      <td>335</td>\n",
              "      <td>335</td>\n",
              "      <td>334</td>\n",
              "      <td>335</td>\n",
              "      <td>335</td>\n",
              "      <td>333</td>\n",
              "      <td>335</td>\n",
              "      <td>335</td>\n",
              "      <td>335</td>\n",
              "    </tr>\n",
              "    <tr>\n",
              "      <th>unique</th>\n",
              "      <td>329</td>\n",
              "      <td>61</td>\n",
              "      <td>103</td>\n",
              "      <td>152</td>\n",
              "      <td>40</td>\n",
              "      <td>45</td>\n",
              "      <td>38</td>\n",
              "      <td>57</td>\n",
              "      <td>80</td>\n",
              "      <td>16</td>\n",
              "    </tr>\n",
              "    <tr>\n",
              "      <th>top</th>\n",
              "      <td>Butter</td>\n",
              "      <td>1 cup</td>\n",
              "      <td>100</td>\n",
              "      <td>100</td>\n",
              "      <td>1</td>\n",
              "      <td>t</td>\n",
              "      <td>0</td>\n",
              "      <td>0</td>\n",
              "      <td>0</td>\n",
              "      <td>Breads, cereals, fastfood,grains</td>\n",
              "    </tr>\n",
              "    <tr>\n",
              "      <th>freq</th>\n",
              "      <td>3</td>\n",
              "      <td>120</td>\n",
              "      <td>38</td>\n",
              "      <td>14</td>\n",
              "      <td>53</td>\n",
              "      <td>115</td>\n",
              "      <td>174</td>\n",
              "      <td>116</td>\n",
              "      <td>45</td>\n",
              "      <td>45</td>\n",
              "    </tr>\n",
              "  </tbody>\n",
              "</table>\n",
              "</div>\n",
              "      <button class=\"colab-df-convert\" onclick=\"convertToInteractive('df-eddd463e-c639-4758-805d-ef45bca1177e')\"\n",
              "              title=\"Convert this dataframe to an interactive table.\"\n",
              "              style=\"display:none;\">\n",
              "        \n",
              "  <svg xmlns=\"http://www.w3.org/2000/svg\" height=\"24px\"viewBox=\"0 0 24 24\"\n",
              "       width=\"24px\">\n",
              "    <path d=\"M0 0h24v24H0V0z\" fill=\"none\"/>\n",
              "    <path d=\"M18.56 5.44l.94 2.06.94-2.06 2.06-.94-2.06-.94-.94-2.06-.94 2.06-2.06.94zm-11 1L8.5 8.5l.94-2.06 2.06-.94-2.06-.94L8.5 2.5l-.94 2.06-2.06.94zm10 10l.94 2.06.94-2.06 2.06-.94-2.06-.94-.94-2.06-.94 2.06-2.06.94z\"/><path d=\"M17.41 7.96l-1.37-1.37c-.4-.4-.92-.59-1.43-.59-.52 0-1.04.2-1.43.59L10.3 9.45l-7.72 7.72c-.78.78-.78 2.05 0 2.83L4 21.41c.39.39.9.59 1.41.59.51 0 1.02-.2 1.41-.59l7.78-7.78 2.81-2.81c.8-.78.8-2.07 0-2.86zM5.41 20L4 18.59l7.72-7.72 1.47 1.35L5.41 20z\"/>\n",
              "  </svg>\n",
              "      </button>\n",
              "      \n",
              "  <style>\n",
              "    .colab-df-container {\n",
              "      display:flex;\n",
              "      flex-wrap:wrap;\n",
              "      gap: 12px;\n",
              "    }\n",
              "\n",
              "    .colab-df-convert {\n",
              "      background-color: #E8F0FE;\n",
              "      border: none;\n",
              "      border-radius: 50%;\n",
              "      cursor: pointer;\n",
              "      display: none;\n",
              "      fill: #1967D2;\n",
              "      height: 32px;\n",
              "      padding: 0 0 0 0;\n",
              "      width: 32px;\n",
              "    }\n",
              "\n",
              "    .colab-df-convert:hover {\n",
              "      background-color: #E2EBFA;\n",
              "      box-shadow: 0px 1px 2px rgba(60, 64, 67, 0.3), 0px 1px 3px 1px rgba(60, 64, 67, 0.15);\n",
              "      fill: #174EA6;\n",
              "    }\n",
              "\n",
              "    [theme=dark] .colab-df-convert {\n",
              "      background-color: #3B4455;\n",
              "      fill: #D2E3FC;\n",
              "    }\n",
              "\n",
              "    [theme=dark] .colab-df-convert:hover {\n",
              "      background-color: #434B5C;\n",
              "      box-shadow: 0px 1px 3px 1px rgba(0, 0, 0, 0.15);\n",
              "      filter: drop-shadow(0px 1px 2px rgba(0, 0, 0, 0.3));\n",
              "      fill: #FFFFFF;\n",
              "    }\n",
              "  </style>\n",
              "\n",
              "      <script>\n",
              "        const buttonEl =\n",
              "          document.querySelector('#df-eddd463e-c639-4758-805d-ef45bca1177e button.colab-df-convert');\n",
              "        buttonEl.style.display =\n",
              "          google.colab.kernel.accessAllowed ? 'block' : 'none';\n",
              "\n",
              "        async function convertToInteractive(key) {\n",
              "          const element = document.querySelector('#df-eddd463e-c639-4758-805d-ef45bca1177e');\n",
              "          const dataTable =\n",
              "            await google.colab.kernel.invokeFunction('convertToInteractive',\n",
              "                                                     [key], {});\n",
              "          if (!dataTable) return;\n",
              "\n",
              "          const docLinkHtml = 'Like what you see? Visit the ' +\n",
              "            '<a target=\"_blank\" href=https://colab.research.google.com/notebooks/data_table.ipynb>data table notebook</a>'\n",
              "            + ' to learn more about interactive tables.';\n",
              "          element.innerHTML = '';\n",
              "          dataTable['output_type'] = 'display_data';\n",
              "          await google.colab.output.renderOutput(dataTable, element);\n",
              "          const docLink = document.createElement('div');\n",
              "          docLink.innerHTML = docLinkHtml;\n",
              "          element.appendChild(docLink);\n",
              "        }\n",
              "      </script>\n",
              "    </div>\n",
              "  </div>\n",
              "  "
            ]
          },
          "metadata": {},
          "execution_count": 7
        }
      ]
    },
    {
      "cell_type": "code",
      "source": [
        "df.isnull().sum()"
      ],
      "metadata": {
        "colab": {
          "base_uri": "https://localhost:8080/"
        },
        "id": "SWr7Y_GpRmm-",
        "outputId": "39937e5e-9151-410c-d429-83411995714e"
      },
      "execution_count": null,
      "outputs": [
        {
          "output_type": "execute_result",
          "data": {
            "text/plain": [
              "Food        0\n",
              "Measure     0\n",
              "Grams       0\n",
              "Calories    1\n",
              "Protein     0\n",
              "Fat         0\n",
              "Sat.Fat     2\n",
              "Fiber       0\n",
              "Carbs       0\n",
              "Category    0\n",
              "dtype: int64"
            ]
          },
          "metadata": {},
          "execution_count": 8
        }
      ]
    },
    {
      "cell_type": "code",
      "source": [
        "df.dropna()"
      ],
      "metadata": {
        "colab": {
          "base_uri": "https://localhost:8080/",
          "height": 423
        },
        "id": "2S0qcvH0RozN",
        "outputId": "428c1c50-764f-4993-8f74-7e196e35cebf"
      },
      "execution_count": null,
      "outputs": [
        {
          "output_type": "execute_result",
          "data": {
            "text/plain": [
              "                      Food Measure  Grams Calories Protein Fat Sat.Fat Fiber  \\\n",
              "0               Cows' milk   1 qt.    976      660      32  40      36     0   \n",
              "1                Milk skim   1 qt.    984      360      36   t       t     0   \n",
              "2               Buttermilk   1 cup    246      127       9   5       4     0   \n",
              "3    Evaporated, undiluted   1 cup    252      345      16  20      18     0   \n",
              "4           Fortified milk  6 cups  1,419    1,373      89  42      23   1.4   \n",
              "..                     ...     ...    ...      ...     ...  ..     ...   ...   \n",
              "330    Fruit-flavored soda  12 oz.    346      161       0   0       0     0   \n",
              "331             Ginger ale  12 oz.    346      105       0   0       0     0   \n",
              "332              Root beer  12 oz.    346      140       0   0       0     0   \n",
              "333                 Coffee   1 cup    230        3       t   0       0     0   \n",
              "334                    Tea   1 cup    230        4       0   t       0     0   \n",
              "\n",
              "    Carbs                   Category  \n",
              "0      48             Dairy products  \n",
              "1      52             Dairy products  \n",
              "2      13             Dairy products  \n",
              "3      24             Dairy products  \n",
              "4     119             Dairy products  \n",
              "..    ...                        ...  \n",
              "330    42  Drinks,Alcohol, Beverages  \n",
              "331    28  Drinks,Alcohol, Beverages  \n",
              "332    35  Drinks,Alcohol, Beverages  \n",
              "333     1  Drinks,Alcohol, Beverages  \n",
              "334     1  Drinks,Alcohol, Beverages  \n",
              "\n",
              "[332 rows x 10 columns]"
            ],
            "text/html": [
              "\n",
              "  <div id=\"df-2a17fdfb-23dd-4b24-a22a-f14dceba1133\">\n",
              "    <div class=\"colab-df-container\">\n",
              "      <div>\n",
              "<style scoped>\n",
              "    .dataframe tbody tr th:only-of-type {\n",
              "        vertical-align: middle;\n",
              "    }\n",
              "\n",
              "    .dataframe tbody tr th {\n",
              "        vertical-align: top;\n",
              "    }\n",
              "\n",
              "    .dataframe thead th {\n",
              "        text-align: right;\n",
              "    }\n",
              "</style>\n",
              "<table border=\"1\" class=\"dataframe\">\n",
              "  <thead>\n",
              "    <tr style=\"text-align: right;\">\n",
              "      <th></th>\n",
              "      <th>Food</th>\n",
              "      <th>Measure</th>\n",
              "      <th>Grams</th>\n",
              "      <th>Calories</th>\n",
              "      <th>Protein</th>\n",
              "      <th>Fat</th>\n",
              "      <th>Sat.Fat</th>\n",
              "      <th>Fiber</th>\n",
              "      <th>Carbs</th>\n",
              "      <th>Category</th>\n",
              "    </tr>\n",
              "  </thead>\n",
              "  <tbody>\n",
              "    <tr>\n",
              "      <th>0</th>\n",
              "      <td>Cows' milk</td>\n",
              "      <td>1 qt.</td>\n",
              "      <td>976</td>\n",
              "      <td>660</td>\n",
              "      <td>32</td>\n",
              "      <td>40</td>\n",
              "      <td>36</td>\n",
              "      <td>0</td>\n",
              "      <td>48</td>\n",
              "      <td>Dairy products</td>\n",
              "    </tr>\n",
              "    <tr>\n",
              "      <th>1</th>\n",
              "      <td>Milk skim</td>\n",
              "      <td>1 qt.</td>\n",
              "      <td>984</td>\n",
              "      <td>360</td>\n",
              "      <td>36</td>\n",
              "      <td>t</td>\n",
              "      <td>t</td>\n",
              "      <td>0</td>\n",
              "      <td>52</td>\n",
              "      <td>Dairy products</td>\n",
              "    </tr>\n",
              "    <tr>\n",
              "      <th>2</th>\n",
              "      <td>Buttermilk</td>\n",
              "      <td>1 cup</td>\n",
              "      <td>246</td>\n",
              "      <td>127</td>\n",
              "      <td>9</td>\n",
              "      <td>5</td>\n",
              "      <td>4</td>\n",
              "      <td>0</td>\n",
              "      <td>13</td>\n",
              "      <td>Dairy products</td>\n",
              "    </tr>\n",
              "    <tr>\n",
              "      <th>3</th>\n",
              "      <td>Evaporated, undiluted</td>\n",
              "      <td>1 cup</td>\n",
              "      <td>252</td>\n",
              "      <td>345</td>\n",
              "      <td>16</td>\n",
              "      <td>20</td>\n",
              "      <td>18</td>\n",
              "      <td>0</td>\n",
              "      <td>24</td>\n",
              "      <td>Dairy products</td>\n",
              "    </tr>\n",
              "    <tr>\n",
              "      <th>4</th>\n",
              "      <td>Fortified milk</td>\n",
              "      <td>6 cups</td>\n",
              "      <td>1,419</td>\n",
              "      <td>1,373</td>\n",
              "      <td>89</td>\n",
              "      <td>42</td>\n",
              "      <td>23</td>\n",
              "      <td>1.4</td>\n",
              "      <td>119</td>\n",
              "      <td>Dairy products</td>\n",
              "    </tr>\n",
              "    <tr>\n",
              "      <th>...</th>\n",
              "      <td>...</td>\n",
              "      <td>...</td>\n",
              "      <td>...</td>\n",
              "      <td>...</td>\n",
              "      <td>...</td>\n",
              "      <td>...</td>\n",
              "      <td>...</td>\n",
              "      <td>...</td>\n",
              "      <td>...</td>\n",
              "      <td>...</td>\n",
              "    </tr>\n",
              "    <tr>\n",
              "      <th>330</th>\n",
              "      <td>Fruit-flavored soda</td>\n",
              "      <td>12 oz.</td>\n",
              "      <td>346</td>\n",
              "      <td>161</td>\n",
              "      <td>0</td>\n",
              "      <td>0</td>\n",
              "      <td>0</td>\n",
              "      <td>0</td>\n",
              "      <td>42</td>\n",
              "      <td>Drinks,Alcohol, Beverages</td>\n",
              "    </tr>\n",
              "    <tr>\n",
              "      <th>331</th>\n",
              "      <td>Ginger ale</td>\n",
              "      <td>12 oz.</td>\n",
              "      <td>346</td>\n",
              "      <td>105</td>\n",
              "      <td>0</td>\n",
              "      <td>0</td>\n",
              "      <td>0</td>\n",
              "      <td>0</td>\n",
              "      <td>28</td>\n",
              "      <td>Drinks,Alcohol, Beverages</td>\n",
              "    </tr>\n",
              "    <tr>\n",
              "      <th>332</th>\n",
              "      <td>Root beer</td>\n",
              "      <td>12 oz.</td>\n",
              "      <td>346</td>\n",
              "      <td>140</td>\n",
              "      <td>0</td>\n",
              "      <td>0</td>\n",
              "      <td>0</td>\n",
              "      <td>0</td>\n",
              "      <td>35</td>\n",
              "      <td>Drinks,Alcohol, Beverages</td>\n",
              "    </tr>\n",
              "    <tr>\n",
              "      <th>333</th>\n",
              "      <td>Coffee</td>\n",
              "      <td>1 cup</td>\n",
              "      <td>230</td>\n",
              "      <td>3</td>\n",
              "      <td>t</td>\n",
              "      <td>0</td>\n",
              "      <td>0</td>\n",
              "      <td>0</td>\n",
              "      <td>1</td>\n",
              "      <td>Drinks,Alcohol, Beverages</td>\n",
              "    </tr>\n",
              "    <tr>\n",
              "      <th>334</th>\n",
              "      <td>Tea</td>\n",
              "      <td>1 cup</td>\n",
              "      <td>230</td>\n",
              "      <td>4</td>\n",
              "      <td>0</td>\n",
              "      <td>t</td>\n",
              "      <td>0</td>\n",
              "      <td>0</td>\n",
              "      <td>1</td>\n",
              "      <td>Drinks,Alcohol, Beverages</td>\n",
              "    </tr>\n",
              "  </tbody>\n",
              "</table>\n",
              "<p>332 rows × 10 columns</p>\n",
              "</div>\n",
              "      <button class=\"colab-df-convert\" onclick=\"convertToInteractive('df-2a17fdfb-23dd-4b24-a22a-f14dceba1133')\"\n",
              "              title=\"Convert this dataframe to an interactive table.\"\n",
              "              style=\"display:none;\">\n",
              "        \n",
              "  <svg xmlns=\"http://www.w3.org/2000/svg\" height=\"24px\"viewBox=\"0 0 24 24\"\n",
              "       width=\"24px\">\n",
              "    <path d=\"M0 0h24v24H0V0z\" fill=\"none\"/>\n",
              "    <path d=\"M18.56 5.44l.94 2.06.94-2.06 2.06-.94-2.06-.94-.94-2.06-.94 2.06-2.06.94zm-11 1L8.5 8.5l.94-2.06 2.06-.94-2.06-.94L8.5 2.5l-.94 2.06-2.06.94zm10 10l.94 2.06.94-2.06 2.06-.94-2.06-.94-.94-2.06-.94 2.06-2.06.94z\"/><path d=\"M17.41 7.96l-1.37-1.37c-.4-.4-.92-.59-1.43-.59-.52 0-1.04.2-1.43.59L10.3 9.45l-7.72 7.72c-.78.78-.78 2.05 0 2.83L4 21.41c.39.39.9.59 1.41.59.51 0 1.02-.2 1.41-.59l7.78-7.78 2.81-2.81c.8-.78.8-2.07 0-2.86zM5.41 20L4 18.59l7.72-7.72 1.47 1.35L5.41 20z\"/>\n",
              "  </svg>\n",
              "      </button>\n",
              "      \n",
              "  <style>\n",
              "    .colab-df-container {\n",
              "      display:flex;\n",
              "      flex-wrap:wrap;\n",
              "      gap: 12px;\n",
              "    }\n",
              "\n",
              "    .colab-df-convert {\n",
              "      background-color: #E8F0FE;\n",
              "      border: none;\n",
              "      border-radius: 50%;\n",
              "      cursor: pointer;\n",
              "      display: none;\n",
              "      fill: #1967D2;\n",
              "      height: 32px;\n",
              "      padding: 0 0 0 0;\n",
              "      width: 32px;\n",
              "    }\n",
              "\n",
              "    .colab-df-convert:hover {\n",
              "      background-color: #E2EBFA;\n",
              "      box-shadow: 0px 1px 2px rgba(60, 64, 67, 0.3), 0px 1px 3px 1px rgba(60, 64, 67, 0.15);\n",
              "      fill: #174EA6;\n",
              "    }\n",
              "\n",
              "    [theme=dark] .colab-df-convert {\n",
              "      background-color: #3B4455;\n",
              "      fill: #D2E3FC;\n",
              "    }\n",
              "\n",
              "    [theme=dark] .colab-df-convert:hover {\n",
              "      background-color: #434B5C;\n",
              "      box-shadow: 0px 1px 3px 1px rgba(0, 0, 0, 0.15);\n",
              "      filter: drop-shadow(0px 1px 2px rgba(0, 0, 0, 0.3));\n",
              "      fill: #FFFFFF;\n",
              "    }\n",
              "  </style>\n",
              "\n",
              "      <script>\n",
              "        const buttonEl =\n",
              "          document.querySelector('#df-2a17fdfb-23dd-4b24-a22a-f14dceba1133 button.colab-df-convert');\n",
              "        buttonEl.style.display =\n",
              "          google.colab.kernel.accessAllowed ? 'block' : 'none';\n",
              "\n",
              "        async function convertToInteractive(key) {\n",
              "          const element = document.querySelector('#df-2a17fdfb-23dd-4b24-a22a-f14dceba1133');\n",
              "          const dataTable =\n",
              "            await google.colab.kernel.invokeFunction('convertToInteractive',\n",
              "                                                     [key], {});\n",
              "          if (!dataTable) return;\n",
              "\n",
              "          const docLinkHtml = 'Like what you see? Visit the ' +\n",
              "            '<a target=\"_blank\" href=https://colab.research.google.com/notebooks/data_table.ipynb>data table notebook</a>'\n",
              "            + ' to learn more about interactive tables.';\n",
              "          element.innerHTML = '';\n",
              "          dataTable['output_type'] = 'display_data';\n",
              "          await google.colab.output.renderOutput(dataTable, element);\n",
              "          const docLink = document.createElement('div');\n",
              "          docLink.innerHTML = docLinkHtml;\n",
              "          element.appendChild(docLink);\n",
              "        }\n",
              "      </script>\n",
              "    </div>\n",
              "  </div>\n",
              "  "
            ]
          },
          "metadata": {},
          "execution_count": 9
        }
      ]
    },
    {
      "cell_type": "code",
      "source": [
        "df['Grams'] = pd.to_numeric(df['Grams'], errors='coerce').astype('Int64')\n",
        "df['Calories'] = pd.to_numeric(df['Calories'], errors='coerce').astype('Int64')\n",
        "df['Protein'] = pd.to_numeric(df['Protein'], errors='coerce').astype('Int64')\n",
        "df['Fiber'] = pd.to_numeric(df['Fiber'], errors='coerce').astype('float64')\n",
        "df['Fat'] = pd.to_numeric(df['Fat'], errors='coerce').astype('Int64')\n",
        "df['Sat.Fat'] = pd.to_numeric(df['Sat.Fat'], errors='coerce').astype('Int64')"
      ],
      "metadata": {
        "id": "2ngQi_TsWLRf"
      },
      "execution_count": null,
      "outputs": []
    },
    {
      "cell_type": "code",
      "source": [
        "df.isnull().sum()"
      ],
      "metadata": {
        "colab": {
          "base_uri": "https://localhost:8080/"
        },
        "id": "-sLkcnHPMao2",
        "outputId": "41a660c6-0a1b-405a-98f8-58b48621e9e2"
      },
      "execution_count": null,
      "outputs": [
        {
          "output_type": "execute_result",
          "data": {
            "text/plain": [
              "Food          0\n",
              "Measure       0\n",
              "Grams         1\n",
              "Calories      5\n",
              "Protein      39\n",
              "Fat         116\n",
              "Sat.Fat      17\n",
              "Fiber        27\n",
              "Carbs         0\n",
              "Category      0\n",
              "dtype: int64"
            ]
          },
          "metadata": {},
          "execution_count": 11
        }
      ]
    },
    {
      "cell_type": "code",
      "source": [
        "df=df.dropna()"
      ],
      "metadata": {
        "id": "HQU7Nhn1Me_D"
      },
      "execution_count": null,
      "outputs": []
    },
    {
      "cell_type": "code",
      "source": [
        "df.info()"
      ],
      "metadata": {
        "colab": {
          "base_uri": "https://localhost:8080/"
        },
        "id": "_ROBJrsMVX-K",
        "outputId": "d4b48ebc-2e99-4d8b-b71e-2bb4aafc9e39"
      },
      "execution_count": null,
      "outputs": [
        {
          "output_type": "stream",
          "name": "stdout",
          "text": [
            "<class 'pandas.core.frame.DataFrame'>\n",
            "Int64Index: 176 entries, 0 to 332\n",
            "Data columns (total 10 columns):\n",
            " #   Column    Non-Null Count  Dtype  \n",
            "---  ------    --------------  -----  \n",
            " 0   Food      176 non-null    object \n",
            " 1   Measure   176 non-null    object \n",
            " 2   Grams     176 non-null    Int64  \n",
            " 3   Calories  176 non-null    Int64  \n",
            " 4   Protein   176 non-null    Int64  \n",
            " 5   Fat       176 non-null    Int64  \n",
            " 6   Sat.Fat   176 non-null    Int64  \n",
            " 7   Fiber     176 non-null    float64\n",
            " 8   Carbs     176 non-null    object \n",
            " 9   Category  176 non-null    object \n",
            "dtypes: Int64(5), float64(1), object(4)\n",
            "memory usage: 16.0+ KB\n"
          ]
        }
      ]
    },
    {
      "cell_type": "code",
      "source": [
        "df.describe()"
      ],
      "metadata": {
        "colab": {
          "base_uri": "https://localhost:8080/",
          "height": 300
        },
        "id": "LbPgQBsJZtM1",
        "outputId": "e6be6751-d106-462f-cc68-9ff780f2128d"
      },
      "execution_count": null,
      "outputs": [
        {
          "output_type": "execute_result",
          "data": {
            "text/plain": [
              "            Grams    Calories     Protein         Fat     Sat.Fat      Fiber\n",
              "count  176.000000  176.000000  176.000000  176.000000  176.000000  176.00000\n",
              "mean   135.704545  220.721591   12.420455   13.909091   10.664773    3.36483\n",
              "std    125.479666  149.636080   21.787400   24.522007   23.813948   21.52410\n",
              "min     12.000000    0.000000   -1.000000    0.000000    0.000000    0.00000\n",
              "25%     63.750000  112.250000    3.000000    2.000000    0.000000    0.00000\n",
              "50%    100.000000  185.000000    7.000000    9.000000    5.000000    0.00000\n",
              "75%    192.500000  285.000000   17.000000   14.000000   11.000000    0.90000\n",
              "max    976.000000  992.000000  232.000000  233.000000  234.000000  235.00000"
            ],
            "text/html": [
              "\n",
              "  <div id=\"df-d351004d-5c07-4a05-bc6d-d54f0cdb2be2\">\n",
              "    <div class=\"colab-df-container\">\n",
              "      <div>\n",
              "<style scoped>\n",
              "    .dataframe tbody tr th:only-of-type {\n",
              "        vertical-align: middle;\n",
              "    }\n",
              "\n",
              "    .dataframe tbody tr th {\n",
              "        vertical-align: top;\n",
              "    }\n",
              "\n",
              "    .dataframe thead th {\n",
              "        text-align: right;\n",
              "    }\n",
              "</style>\n",
              "<table border=\"1\" class=\"dataframe\">\n",
              "  <thead>\n",
              "    <tr style=\"text-align: right;\">\n",
              "      <th></th>\n",
              "      <th>Grams</th>\n",
              "      <th>Calories</th>\n",
              "      <th>Protein</th>\n",
              "      <th>Fat</th>\n",
              "      <th>Sat.Fat</th>\n",
              "      <th>Fiber</th>\n",
              "    </tr>\n",
              "  </thead>\n",
              "  <tbody>\n",
              "    <tr>\n",
              "      <th>count</th>\n",
              "      <td>176.000000</td>\n",
              "      <td>176.000000</td>\n",
              "      <td>176.000000</td>\n",
              "      <td>176.000000</td>\n",
              "      <td>176.000000</td>\n",
              "      <td>176.00000</td>\n",
              "    </tr>\n",
              "    <tr>\n",
              "      <th>mean</th>\n",
              "      <td>135.704545</td>\n",
              "      <td>220.721591</td>\n",
              "      <td>12.420455</td>\n",
              "      <td>13.909091</td>\n",
              "      <td>10.664773</td>\n",
              "      <td>3.36483</td>\n",
              "    </tr>\n",
              "    <tr>\n",
              "      <th>std</th>\n",
              "      <td>125.479666</td>\n",
              "      <td>149.636080</td>\n",
              "      <td>21.787400</td>\n",
              "      <td>24.522007</td>\n",
              "      <td>23.813948</td>\n",
              "      <td>21.52410</td>\n",
              "    </tr>\n",
              "    <tr>\n",
              "      <th>min</th>\n",
              "      <td>12.000000</td>\n",
              "      <td>0.000000</td>\n",
              "      <td>-1.000000</td>\n",
              "      <td>0.000000</td>\n",
              "      <td>0.000000</td>\n",
              "      <td>0.00000</td>\n",
              "    </tr>\n",
              "    <tr>\n",
              "      <th>25%</th>\n",
              "      <td>63.750000</td>\n",
              "      <td>112.250000</td>\n",
              "      <td>3.000000</td>\n",
              "      <td>2.000000</td>\n",
              "      <td>0.000000</td>\n",
              "      <td>0.00000</td>\n",
              "    </tr>\n",
              "    <tr>\n",
              "      <th>50%</th>\n",
              "      <td>100.000000</td>\n",
              "      <td>185.000000</td>\n",
              "      <td>7.000000</td>\n",
              "      <td>9.000000</td>\n",
              "      <td>5.000000</td>\n",
              "      <td>0.00000</td>\n",
              "    </tr>\n",
              "    <tr>\n",
              "      <th>75%</th>\n",
              "      <td>192.500000</td>\n",
              "      <td>285.000000</td>\n",
              "      <td>17.000000</td>\n",
              "      <td>14.000000</td>\n",
              "      <td>11.000000</td>\n",
              "      <td>0.90000</td>\n",
              "    </tr>\n",
              "    <tr>\n",
              "      <th>max</th>\n",
              "      <td>976.000000</td>\n",
              "      <td>992.000000</td>\n",
              "      <td>232.000000</td>\n",
              "      <td>233.000000</td>\n",
              "      <td>234.000000</td>\n",
              "      <td>235.00000</td>\n",
              "    </tr>\n",
              "  </tbody>\n",
              "</table>\n",
              "</div>\n",
              "      <button class=\"colab-df-convert\" onclick=\"convertToInteractive('df-d351004d-5c07-4a05-bc6d-d54f0cdb2be2')\"\n",
              "              title=\"Convert this dataframe to an interactive table.\"\n",
              "              style=\"display:none;\">\n",
              "        \n",
              "  <svg xmlns=\"http://www.w3.org/2000/svg\" height=\"24px\"viewBox=\"0 0 24 24\"\n",
              "       width=\"24px\">\n",
              "    <path d=\"M0 0h24v24H0V0z\" fill=\"none\"/>\n",
              "    <path d=\"M18.56 5.44l.94 2.06.94-2.06 2.06-.94-2.06-.94-.94-2.06-.94 2.06-2.06.94zm-11 1L8.5 8.5l.94-2.06 2.06-.94-2.06-.94L8.5 2.5l-.94 2.06-2.06.94zm10 10l.94 2.06.94-2.06 2.06-.94-2.06-.94-.94-2.06-.94 2.06-2.06.94z\"/><path d=\"M17.41 7.96l-1.37-1.37c-.4-.4-.92-.59-1.43-.59-.52 0-1.04.2-1.43.59L10.3 9.45l-7.72 7.72c-.78.78-.78 2.05 0 2.83L4 21.41c.39.39.9.59 1.41.59.51 0 1.02-.2 1.41-.59l7.78-7.78 2.81-2.81c.8-.78.8-2.07 0-2.86zM5.41 20L4 18.59l7.72-7.72 1.47 1.35L5.41 20z\"/>\n",
              "  </svg>\n",
              "      </button>\n",
              "      \n",
              "  <style>\n",
              "    .colab-df-container {\n",
              "      display:flex;\n",
              "      flex-wrap:wrap;\n",
              "      gap: 12px;\n",
              "    }\n",
              "\n",
              "    .colab-df-convert {\n",
              "      background-color: #E8F0FE;\n",
              "      border: none;\n",
              "      border-radius: 50%;\n",
              "      cursor: pointer;\n",
              "      display: none;\n",
              "      fill: #1967D2;\n",
              "      height: 32px;\n",
              "      padding: 0 0 0 0;\n",
              "      width: 32px;\n",
              "    }\n",
              "\n",
              "    .colab-df-convert:hover {\n",
              "      background-color: #E2EBFA;\n",
              "      box-shadow: 0px 1px 2px rgba(60, 64, 67, 0.3), 0px 1px 3px 1px rgba(60, 64, 67, 0.15);\n",
              "      fill: #174EA6;\n",
              "    }\n",
              "\n",
              "    [theme=dark] .colab-df-convert {\n",
              "      background-color: #3B4455;\n",
              "      fill: #D2E3FC;\n",
              "    }\n",
              "\n",
              "    [theme=dark] .colab-df-convert:hover {\n",
              "      background-color: #434B5C;\n",
              "      box-shadow: 0px 1px 3px 1px rgba(0, 0, 0, 0.15);\n",
              "      filter: drop-shadow(0px 1px 2px rgba(0, 0, 0, 0.3));\n",
              "      fill: #FFFFFF;\n",
              "    }\n",
              "  </style>\n",
              "\n",
              "      <script>\n",
              "        const buttonEl =\n",
              "          document.querySelector('#df-d351004d-5c07-4a05-bc6d-d54f0cdb2be2 button.colab-df-convert');\n",
              "        buttonEl.style.display =\n",
              "          google.colab.kernel.accessAllowed ? 'block' : 'none';\n",
              "\n",
              "        async function convertToInteractive(key) {\n",
              "          const element = document.querySelector('#df-d351004d-5c07-4a05-bc6d-d54f0cdb2be2');\n",
              "          const dataTable =\n",
              "            await google.colab.kernel.invokeFunction('convertToInteractive',\n",
              "                                                     [key], {});\n",
              "          if (!dataTable) return;\n",
              "\n",
              "          const docLinkHtml = 'Like what you see? Visit the ' +\n",
              "            '<a target=\"_blank\" href=https://colab.research.google.com/notebooks/data_table.ipynb>data table notebook</a>'\n",
              "            + ' to learn more about interactive tables.';\n",
              "          element.innerHTML = '';\n",
              "          dataTable['output_type'] = 'display_data';\n",
              "          await google.colab.output.renderOutput(dataTable, element);\n",
              "          const docLink = document.createElement('div');\n",
              "          docLink.innerHTML = docLinkHtml;\n",
              "          element.appendChild(docLink);\n",
              "        }\n",
              "      </script>\n",
              "    </div>\n",
              "  </div>\n",
              "  "
            ]
          },
          "metadata": {},
          "execution_count": 14
        }
      ]
    },
    {
      "cell_type": "code",
      "source": [
        "df['status'] = np.where((df['Calories']<=200) & (df['Protein']<=40) & (df['Sat.Fat']<=15) & (df['Fat']<=20) & (df['Fiber']<=1.0), \"Healthy\", \"Unhealthy\")"
      ],
      "metadata": {
        "id": "q3fOsLilSZ2N"
      },
      "execution_count": null,
      "outputs": []
    },
    {
      "cell_type": "code",
      "source": [
        "df.head()"
      ],
      "metadata": {
        "colab": {
          "base_uri": "https://localhost:8080/",
          "height": 206
        },
        "id": "ksoz0cJrUrfv",
        "outputId": "43243749-7fb5-4395-aa6d-de965648a727"
      },
      "execution_count": null,
      "outputs": [
        {
          "output_type": "execute_result",
          "data": {
            "text/plain": [
              "                    Food Measure  Grams  Calories  Protein  Fat  Sat.Fat  \\\n",
              "0             Cows' milk   1 qt.    976       660       32   40       36   \n",
              "2             Buttermilk   1 cup    246       127        9    5        4   \n",
              "3  Evaporated, undiluted   1 cup    252       345       16   20       18   \n",
              "5          Powdered milk   1 cup    103       515       27   28       24   \n",
              "8            Goats' milk   1 cup    244       165        8   10        8   \n",
              "\n",
              "   Fiber Carbs        Category     status  \n",
              "0    0.0    48  Dairy products  Unhealthy  \n",
              "2    0.0    13  Dairy products    Healthy  \n",
              "3    0.0    24  Dairy products  Unhealthy  \n",
              "5    0.0    39  Dairy products  Unhealthy  \n",
              "8    0.0    11  Dairy products    Healthy  "
            ],
            "text/html": [
              "\n",
              "  <div id=\"df-094ebb53-b347-43d1-a372-4de1da71350b\">\n",
              "    <div class=\"colab-df-container\">\n",
              "      <div>\n",
              "<style scoped>\n",
              "    .dataframe tbody tr th:only-of-type {\n",
              "        vertical-align: middle;\n",
              "    }\n",
              "\n",
              "    .dataframe tbody tr th {\n",
              "        vertical-align: top;\n",
              "    }\n",
              "\n",
              "    .dataframe thead th {\n",
              "        text-align: right;\n",
              "    }\n",
              "</style>\n",
              "<table border=\"1\" class=\"dataframe\">\n",
              "  <thead>\n",
              "    <tr style=\"text-align: right;\">\n",
              "      <th></th>\n",
              "      <th>Food</th>\n",
              "      <th>Measure</th>\n",
              "      <th>Grams</th>\n",
              "      <th>Calories</th>\n",
              "      <th>Protein</th>\n",
              "      <th>Fat</th>\n",
              "      <th>Sat.Fat</th>\n",
              "      <th>Fiber</th>\n",
              "      <th>Carbs</th>\n",
              "      <th>Category</th>\n",
              "      <th>status</th>\n",
              "    </tr>\n",
              "  </thead>\n",
              "  <tbody>\n",
              "    <tr>\n",
              "      <th>0</th>\n",
              "      <td>Cows' milk</td>\n",
              "      <td>1 qt.</td>\n",
              "      <td>976</td>\n",
              "      <td>660</td>\n",
              "      <td>32</td>\n",
              "      <td>40</td>\n",
              "      <td>36</td>\n",
              "      <td>0.0</td>\n",
              "      <td>48</td>\n",
              "      <td>Dairy products</td>\n",
              "      <td>Unhealthy</td>\n",
              "    </tr>\n",
              "    <tr>\n",
              "      <th>2</th>\n",
              "      <td>Buttermilk</td>\n",
              "      <td>1 cup</td>\n",
              "      <td>246</td>\n",
              "      <td>127</td>\n",
              "      <td>9</td>\n",
              "      <td>5</td>\n",
              "      <td>4</td>\n",
              "      <td>0.0</td>\n",
              "      <td>13</td>\n",
              "      <td>Dairy products</td>\n",
              "      <td>Healthy</td>\n",
              "    </tr>\n",
              "    <tr>\n",
              "      <th>3</th>\n",
              "      <td>Evaporated, undiluted</td>\n",
              "      <td>1 cup</td>\n",
              "      <td>252</td>\n",
              "      <td>345</td>\n",
              "      <td>16</td>\n",
              "      <td>20</td>\n",
              "      <td>18</td>\n",
              "      <td>0.0</td>\n",
              "      <td>24</td>\n",
              "      <td>Dairy products</td>\n",
              "      <td>Unhealthy</td>\n",
              "    </tr>\n",
              "    <tr>\n",
              "      <th>5</th>\n",
              "      <td>Powdered milk</td>\n",
              "      <td>1 cup</td>\n",
              "      <td>103</td>\n",
              "      <td>515</td>\n",
              "      <td>27</td>\n",
              "      <td>28</td>\n",
              "      <td>24</td>\n",
              "      <td>0.0</td>\n",
              "      <td>39</td>\n",
              "      <td>Dairy products</td>\n",
              "      <td>Unhealthy</td>\n",
              "    </tr>\n",
              "    <tr>\n",
              "      <th>8</th>\n",
              "      <td>Goats' milk</td>\n",
              "      <td>1 cup</td>\n",
              "      <td>244</td>\n",
              "      <td>165</td>\n",
              "      <td>8</td>\n",
              "      <td>10</td>\n",
              "      <td>8</td>\n",
              "      <td>0.0</td>\n",
              "      <td>11</td>\n",
              "      <td>Dairy products</td>\n",
              "      <td>Healthy</td>\n",
              "    </tr>\n",
              "  </tbody>\n",
              "</table>\n",
              "</div>\n",
              "      <button class=\"colab-df-convert\" onclick=\"convertToInteractive('df-094ebb53-b347-43d1-a372-4de1da71350b')\"\n",
              "              title=\"Convert this dataframe to an interactive table.\"\n",
              "              style=\"display:none;\">\n",
              "        \n",
              "  <svg xmlns=\"http://www.w3.org/2000/svg\" height=\"24px\"viewBox=\"0 0 24 24\"\n",
              "       width=\"24px\">\n",
              "    <path d=\"M0 0h24v24H0V0z\" fill=\"none\"/>\n",
              "    <path d=\"M18.56 5.44l.94 2.06.94-2.06 2.06-.94-2.06-.94-.94-2.06-.94 2.06-2.06.94zm-11 1L8.5 8.5l.94-2.06 2.06-.94-2.06-.94L8.5 2.5l-.94 2.06-2.06.94zm10 10l.94 2.06.94-2.06 2.06-.94-2.06-.94-.94-2.06-.94 2.06-2.06.94z\"/><path d=\"M17.41 7.96l-1.37-1.37c-.4-.4-.92-.59-1.43-.59-.52 0-1.04.2-1.43.59L10.3 9.45l-7.72 7.72c-.78.78-.78 2.05 0 2.83L4 21.41c.39.39.9.59 1.41.59.51 0 1.02-.2 1.41-.59l7.78-7.78 2.81-2.81c.8-.78.8-2.07 0-2.86zM5.41 20L4 18.59l7.72-7.72 1.47 1.35L5.41 20z\"/>\n",
              "  </svg>\n",
              "      </button>\n",
              "      \n",
              "  <style>\n",
              "    .colab-df-container {\n",
              "      display:flex;\n",
              "      flex-wrap:wrap;\n",
              "      gap: 12px;\n",
              "    }\n",
              "\n",
              "    .colab-df-convert {\n",
              "      background-color: #E8F0FE;\n",
              "      border: none;\n",
              "      border-radius: 50%;\n",
              "      cursor: pointer;\n",
              "      display: none;\n",
              "      fill: #1967D2;\n",
              "      height: 32px;\n",
              "      padding: 0 0 0 0;\n",
              "      width: 32px;\n",
              "    }\n",
              "\n",
              "    .colab-df-convert:hover {\n",
              "      background-color: #E2EBFA;\n",
              "      box-shadow: 0px 1px 2px rgba(60, 64, 67, 0.3), 0px 1px 3px 1px rgba(60, 64, 67, 0.15);\n",
              "      fill: #174EA6;\n",
              "    }\n",
              "\n",
              "    [theme=dark] .colab-df-convert {\n",
              "      background-color: #3B4455;\n",
              "      fill: #D2E3FC;\n",
              "    }\n",
              "\n",
              "    [theme=dark] .colab-df-convert:hover {\n",
              "      background-color: #434B5C;\n",
              "      box-shadow: 0px 1px 3px 1px rgba(0, 0, 0, 0.15);\n",
              "      filter: drop-shadow(0px 1px 2px rgba(0, 0, 0, 0.3));\n",
              "      fill: #FFFFFF;\n",
              "    }\n",
              "  </style>\n",
              "\n",
              "      <script>\n",
              "        const buttonEl =\n",
              "          document.querySelector('#df-094ebb53-b347-43d1-a372-4de1da71350b button.colab-df-convert');\n",
              "        buttonEl.style.display =\n",
              "          google.colab.kernel.accessAllowed ? 'block' : 'none';\n",
              "\n",
              "        async function convertToInteractive(key) {\n",
              "          const element = document.querySelector('#df-094ebb53-b347-43d1-a372-4de1da71350b');\n",
              "          const dataTable =\n",
              "            await google.colab.kernel.invokeFunction('convertToInteractive',\n",
              "                                                     [key], {});\n",
              "          if (!dataTable) return;\n",
              "\n",
              "          const docLinkHtml = 'Like what you see? Visit the ' +\n",
              "            '<a target=\"_blank\" href=https://colab.research.google.com/notebooks/data_table.ipynb>data table notebook</a>'\n",
              "            + ' to learn more about interactive tables.';\n",
              "          element.innerHTML = '';\n",
              "          dataTable['output_type'] = 'display_data';\n",
              "          await google.colab.output.renderOutput(dataTable, element);\n",
              "          const docLink = document.createElement('div');\n",
              "          docLink.innerHTML = docLinkHtml;\n",
              "          element.appendChild(docLink);\n",
              "        }\n",
              "      </script>\n",
              "    </div>\n",
              "  </div>\n",
              "  "
            ]
          },
          "metadata": {},
          "execution_count": 16
        }
      ]
    },
    {
      "cell_type": "code",
      "source": [
        "df.status.value_counts()"
      ],
      "metadata": {
        "colab": {
          "base_uri": "https://localhost:8080/"
        },
        "id": "rBKJxU7fMvPS",
        "outputId": "c4f92378-3939-4110-9a55-ec306a41c76c"
      },
      "execution_count": null,
      "outputs": [
        {
          "output_type": "execute_result",
          "data": {
            "text/plain": [
              "Unhealthy    95\n",
              "Healthy      81\n",
              "Name: status, dtype: int64"
            ]
          },
          "metadata": {},
          "execution_count": 17
        }
      ]
    },
    {
      "cell_type": "code",
      "source": [
        "sns.barplot(x=['Unhealthy', 'Healthy'], y=[df.status.value_counts()[0], df.status.value_counts()[1]])\n",
        "plt.xlabel(\"Status\")\n",
        "plt.ylabel(\"Count\")\n",
        "plt.title(\"Count of Status of the food:\")\n",
        "plt.show()"
      ],
      "metadata": {
        "colab": {
          "base_uri": "https://localhost:8080/",
          "height": 294
        },
        "id": "sjfcXIUPaDZ2",
        "outputId": "4ffab731-2339-4ff7-8e1a-51000714dd75"
      },
      "execution_count": null,
      "outputs": [
        {
          "output_type": "display_data",
          "data": {
            "text/plain": [
              "<Figure size 432x288 with 1 Axes>"
            ],
            "image/png": "[encoded data removed]"
          },
          "metadata": {
            "needs_background": "light"
          }
        }
      ]
    },
    {
      "cell_type": "code",
      "source": [
        "def fun(l):\n",
        "  for x in l:\n",
        "    plt.figure(figsize=(20,10))\n",
        "    cal1=df.sort_values(by=x,ascending=False)\n",
        "    cal10=cal1.head(10)\n",
        "    sns.barplot(x=cal10.Food, y=cal10[x])\n",
        "    plt.xlabel(\"Food Items\")\n",
        "    plt.ylabel(x)\n",
        "    plt.title(\"Top 10 highest \"+x+\" food items\")\n",
        "    plt.show()\n",
        "l=['Calories','Protein','Fat','Sat.Fat','Fiber']\n",
        "fun(l)"
      ],
      "metadata": {
        "colab": {
          "base_uri": "https://localhost:8080/",
          "height": 1000
        },
        "id": "2NsCiKwZcG7d",
        "outputId": "69b62d0f-e20a-4bc6-d5c4-cc37795ea4c0"
      },
      "execution_count": 45,
      "outputs": [
        {
          "output_type": "display_data",
          "data": {
            "text/plain": [
              "<Figure size 1440x720 with 1 Axes>"
            ],
            "image/png": "[encoded data removed]"
          },
          "metadata": {
            "needs_background": "light"
          }
        },
        {
          "output_type": "display_data",
          "data": {
            "text/plain": [
              "<Figure size 1440x720 with 1 Axes>"
            ],
            "image/png": "[encoded data removed]"
          },
          "metadata": {
            "needs_background": "light"
          }
        },
        {
          "output_type": "display_data",
          "data": {
            "text/plain": [
              "<Figure size 1440x720 with 1 Axes>"
            ],
            "image/png": "[encoded data removed]"
          },
          "metadata": {
            "needs_background": "light"
          }
        },
        {
          "output_type": "display_data",
          "data": {
            "text/plain": [
              "<Figure size 1440x720 with 1 Axes>"
            ],
            "image/png": "[encoded data removed]"
          },
          "metadata": {
            "needs_background": "light"
          }
        },
        {
          "output_type": "display_data",
          "data": {
            "text/plain": [
              "<Figure size 1440x720 with 1 Axes>"
            ],
            "image/png": "[encoded data removed]"
          },
          "metadata": {
            "needs_background": "light"
          }
        }
      ]
    },
    {
      "cell_type": "code",
      "source": [
        "l=LabelEncoder()\n",
        "df.status=l.fit_transform(df.status)"
      ],
      "metadata": {
        "id": "KzYe33O4N7AM"
      },
      "execution_count": null,
      "outputs": []
    },
    {
      "cell_type": "code",
      "source": [
        "print(df.head())"
      ],
      "metadata": {
        "colab": {
          "base_uri": "https://localhost:8080/"
        },
        "id": "k1RNk9P1PUbq",
        "outputId": "16ed0d45-8083-4e16-ab17-df985903b065"
      },
      "execution_count": null,
      "outputs": [
        {
          "output_type": "stream",
          "name": "stdout",
          "text": [
            "                    Food Measure  Grams  Calories  Protein  Fat  Sat.Fat  \\\n",
            "0             Cows' milk   1 qt.    976       660       32   40       36   \n",
            "2             Buttermilk   1 cup    246       127        9    5        4   \n",
            "3  Evaporated, undiluted   1 cup    252       345       16   20       18   \n",
            "5          Powdered milk   1 cup    103       515       27   28       24   \n",
            "8            Goats' milk   1 cup    244       165        8   10        8   \n",
            "\n",
            "   Fiber Carbs        Category  status  \n",
            "0    0.0    48  Dairy products       1  \n",
            "2    0.0    13  Dairy products       0  \n",
            "3    0.0    24  Dairy products       1  \n",
            "5    0.0    39  Dairy products       1  \n",
            "8    0.0    11  Dairy products       0  \n"
          ]
        }
      ]
    },
    {
      "cell_type": "code",
      "source": [
        "df.Category.value_counts()"
      ],
      "metadata": {
        "id": "4Y-iYZbZPZTQ",
        "colab": {
          "base_uri": "https://localhost:8080/"
        },
        "outputId": "cb92eb55-7658-43a3-aa68-494f66f35536"
      },
      "execution_count": null,
      "outputs": [
        {
          "output_type": "execute_result",
          "data": {
            "text/plain": [
              "Breads, cereals, fastfood,grains    27\n",
              "Meat, Poultry                       26\n",
              "Dairy products                      23\n",
              "Fish, Seafood                       18\n",
              "Desserts, sweets                    18\n",
              "Seeds and Nuts                      12\n",
              "Soups                               10\n",
              "Vegetables R-Z                       9\n",
              "Fats, Oils, Shortenings              8\n",
              "Drinks,Alcohol, Beverages            7\n",
              "Jams, Jellies                        5\n",
              "Fruits G-P                           4\n",
              "Vegetables A-E                       3\n",
              "Fruits A-F                           3\n",
              "Vegetables F-P                       2\n",
              "Fruits R-Z                           1\n",
              "Name: Category, dtype: int64"
            ]
          },
          "metadata": {},
          "execution_count": 26
        }
      ]
    },
    {
      "cell_type": "code",
      "source": [
        "df.Category=l.fit_transform(df.Category)"
      ],
      "metadata": {
        "id": "5A7pJ8ZeRbUu"
      },
      "execution_count": null,
      "outputs": []
    },
    {
      "cell_type": "code",
      "source": [
        "df.corr()"
      ],
      "metadata": {
        "colab": {
          "base_uri": "https://localhost:8080/",
          "height": 296
        },
        "id": "xVif0fTtQvl2",
        "outputId": "0e019188-ec70-4249-c7f0-98b4e51c4a79"
      },
      "execution_count": null,
      "outputs": [
        {
          "output_type": "execute_result",
          "data": {
            "text/plain": [
              "             Grams  Calories   Protein       Fat   Sat.Fat     Fiber  \\\n",
              "Grams     1.000000  0.169278  0.046239 -0.006897  0.035499  0.043444   \n",
              "Calories  0.169278  1.000000  0.075304  0.380467  0.311857 -0.040181   \n",
              "Protein   0.046239  0.075304  1.000000  0.786297  0.809137  0.910615   \n",
              "Fat      -0.006897  0.380467  0.786297  1.000000  0.978772  0.806774   \n",
              "Sat.Fat   0.035499  0.311857  0.809137  0.978772  1.000000  0.853729   \n",
              "Fiber     0.043444 -0.040181  0.910615  0.806774  0.853729  1.000000   \n",
              "Category -0.052523 -0.083585  0.011867  0.042914  0.025633 -0.027674   \n",
              "status    0.167919  0.619261  0.170039  0.328039  0.286046  0.138384   \n",
              "\n",
              "          Category    status  \n",
              "Grams    -0.052523  0.167919  \n",
              "Calories -0.083585  0.619261  \n",
              "Protein   0.011867  0.170039  \n",
              "Fat       0.042914  0.328039  \n",
              "Sat.Fat   0.025633  0.286046  \n",
              "Fiber    -0.027674  0.138384  \n",
              "Category  1.000000  0.050083  \n",
              "status    0.050083  1.000000  "
            ],
            "text/html": [
              "\n",
              "  <div id=\"df-b43e31ff-cba5-44bc-b4fd-7cd21bb054d6\">\n",
              "    <div class=\"colab-df-container\">\n",
              "      <div>\n",
              "<style scoped>\n",
              "    .dataframe tbody tr th:only-of-type {\n",
              "        vertical-align: middle;\n",
              "    }\n",
              "\n",
              "    .dataframe tbody tr th {\n",
              "        vertical-align: top;\n",
              "    }\n",
              "\n",
              "    .dataframe thead th {\n",
              "        text-align: right;\n",
              "    }\n",
              "</style>\n",
              "<table border=\"1\" class=\"dataframe\">\n",
              "  <thead>\n",
              "    <tr style=\"text-align: right;\">\n",
              "      <th></th>\n",
              "      <th>Grams</th>\n",
              "      <th>Calories</th>\n",
              "      <th>Protein</th>\n",
              "      <th>Fat</th>\n",
              "      <th>Sat.Fat</th>\n",
              "      <th>Fiber</th>\n",
              "      <th>Category</th>\n",
              "      <th>status</th>\n",
              "    </tr>\n",
              "  </thead>\n",
              "  <tbody>\n",
              "    <tr>\n",
              "      <th>Grams</th>\n",
              "      <td>1.000000</td>\n",
              "      <td>0.169278</td>\n",
              "      <td>0.046239</td>\n",
              "      <td>-0.006897</td>\n",
              "      <td>0.035499</td>\n",
              "      <td>0.043444</td>\n",
              "      <td>-0.052523</td>\n",
              "      <td>0.167919</td>\n",
              "    </tr>\n",
              "    <tr>\n",
              "      <th>Calories</th>\n",
              "      <td>0.169278</td>\n",
              "      <td>1.000000</td>\n",
              "      <td>0.075304</td>\n",
              "      <td>0.380467</td>\n",
              "      <td>0.311857</td>\n",
              "      <td>-0.040181</td>\n",
              "      <td>-0.083585</td>\n",
              "      <td>0.619261</td>\n",
              "    </tr>\n",
              "    <tr>\n",
              "      <th>Protein</th>\n",
              "      <td>0.046239</td>\n",
              "      <td>0.075304</td>\n",
              "      <td>1.000000</td>\n",
              "      <td>0.786297</td>\n",
              "      <td>0.809137</td>\n",
              "      <td>0.910615</td>\n",
              "      <td>0.011867</td>\n",
              "      <td>0.170039</td>\n",
              "    </tr>\n",
              "    <tr>\n",
              "      <th>Fat</th>\n",
              "      <td>-0.006897</td>\n",
              "      <td>0.380467</td>\n",
              "      <td>0.786297</td>\n",
              "      <td>1.000000</td>\n",
              "      <td>0.978772</td>\n",
              "      <td>0.806774</td>\n",
              "      <td>0.042914</td>\n",
              "      <td>0.328039</td>\n",
              "    </tr>\n",
              "    <tr>\n",
              "      <th>Sat.Fat</th>\n",
              "      <td>0.035499</td>\n",
              "      <td>0.311857</td>\n",
              "      <td>0.809137</td>\n",
              "      <td>0.978772</td>\n",
              "      <td>1.000000</td>\n",
              "      <td>0.853729</td>\n",
              "      <td>0.025633</td>\n",
              "      <td>0.286046</td>\n",
              "    </tr>\n",
              "    <tr>\n",
              "      <th>Fiber</th>\n",
              "      <td>0.043444</td>\n",
              "      <td>-0.040181</td>\n",
              "      <td>0.910615</td>\n",
              "      <td>0.806774</td>\n",
              "      <td>0.853729</td>\n",
              "      <td>1.000000</td>\n",
              "      <td>-0.027674</td>\n",
              "      <td>0.138384</td>\n",
              "    </tr>\n",
              "    <tr>\n",
              "      <th>Category</th>\n",
              "      <td>-0.052523</td>\n",
              "      <td>-0.083585</td>\n",
              "      <td>0.011867</td>\n",
              "      <td>0.042914</td>\n",
              "      <td>0.025633</td>\n",
              "      <td>-0.027674</td>\n",
              "      <td>1.000000</td>\n",
              "      <td>0.050083</td>\n",
              "    </tr>\n",
              "    <tr>\n",
              "      <th>status</th>\n",
              "      <td>0.167919</td>\n",
              "      <td>0.619261</td>\n",
              "      <td>0.170039</td>\n",
              "      <td>0.328039</td>\n",
              "      <td>0.286046</td>\n",
              "      <td>0.138384</td>\n",
              "      <td>0.050083</td>\n",
              "      <td>1.000000</td>\n",
              "    </tr>\n",
              "  </tbody>\n",
              "</table>\n",
              "</div>\n",
              "      <button class=\"colab-df-convert\" onclick=\"convertToInteractive('df-b43e31ff-cba5-44bc-b4fd-7cd21bb054d6')\"\n",
              "              title=\"Convert this dataframe to an interactive table.\"\n",
              "              style=\"display:none;\">\n",
              "        \n",
              "  <svg xmlns=\"http://www.w3.org/2000/svg\" height=\"24px\"viewBox=\"0 0 24 24\"\n",
              "       width=\"24px\">\n",
              "    <path d=\"M0 0h24v24H0V0z\" fill=\"none\"/>\n",
              "    <path d=\"M18.56 5.44l.94 2.06.94-2.06 2.06-.94-2.06-.94-.94-2.06-.94 2.06-2.06.94zm-11 1L8.5 8.5l.94-2.06 2.06-.94-2.06-.94L8.5 2.5l-.94 2.06-2.06.94zm10 10l.94 2.06.94-2.06 2.06-.94-2.06-.94-.94-2.06-.94 2.06-2.06.94z\"/><path d=\"M17.41 7.96l-1.37-1.37c-.4-.4-.92-.59-1.43-.59-.52 0-1.04.2-1.43.59L10.3 9.45l-7.72 7.72c-.78.78-.78 2.05 0 2.83L4 21.41c.39.39.9.59 1.41.59.51 0 1.02-.2 1.41-.59l7.78-7.78 2.81-2.81c.8-.78.8-2.07 0-2.86zM5.41 20L4 18.59l7.72-7.72 1.47 1.35L5.41 20z\"/>\n",
              "  </svg>\n",
              "      </button>\n",
              "      \n",
              "  <style>\n",
              "    .colab-df-container {\n",
              "      display:flex;\n",
              "      flex-wrap:wrap;\n",
              "      gap: 12px;\n",
              "    }\n",
              "\n",
              "    .colab-df-convert {\n",
              "      background-color: #E8F0FE;\n",
              "      border: none;\n",
              "      border-radius: 50%;\n",
              "      cursor: pointer;\n",
              "      display: none;\n",
              "      fill: #1967D2;\n",
              "      height: 32px;\n",
              "      padding: 0 0 0 0;\n",
              "      width: 32px;\n",
              "    }\n",
              "\n",
              "    .colab-df-convert:hover {\n",
              "      background-color: #E2EBFA;\n",
              "      box-shadow: 0px 1px 2px rgba(60, 64, 67, 0.3), 0px 1px 3px 1px rgba(60, 64, 67, 0.15);\n",
              "      fill: #174EA6;\n",
              "    }\n",
              "\n",
              "    [theme=dark] .colab-df-convert {\n",
              "      background-color: #3B4455;\n",
              "      fill: #D2E3FC;\n",
              "    }\n",
              "\n",
              "    [theme=dark] .colab-df-convert:hover {\n",
              "      background-color: #434B5C;\n",
              "      box-shadow: 0px 1px 3px 1px rgba(0, 0, 0, 0.15);\n",
              "      filter: drop-shadow(0px 1px 2px rgba(0, 0, 0, 0.3));\n",
              "      fill: #FFFFFF;\n",
              "    }\n",
              "  </style>\n",
              "\n",
              "      <script>\n",
              "        const buttonEl =\n",
              "          document.querySelector('#df-b43e31ff-cba5-44bc-b4fd-7cd21bb054d6 button.colab-df-convert');\n",
              "        buttonEl.style.display =\n",
              "          google.colab.kernel.accessAllowed ? 'block' : 'none';\n",
              "\n",
              "        async function convertToInteractive(key) {\n",
              "          const element = document.querySelector('#df-b43e31ff-cba5-44bc-b4fd-7cd21bb054d6');\n",
              "          const dataTable =\n",
              "            await google.colab.kernel.invokeFunction('convertToInteractive',\n",
              "                                                     [key], {});\n",
              "          if (!dataTable) return;\n",
              "\n",
              "          const docLinkHtml = 'Like what you see? Visit the ' +\n",
              "            '<a target=\"_blank\" href=https://colab.research.google.com/notebooks/data_table.ipynb>data table notebook</a>'\n",
              "            + ' to learn more about interactive tables.';\n",
              "          element.innerHTML = '';\n",
              "          dataTable['output_type'] = 'display_data';\n",
              "          await google.colab.output.renderOutput(dataTable, element);\n",
              "          const docLink = document.createElement('div');\n",
              "          docLink.innerHTML = docLinkHtml;\n",
              "          element.appendChild(docLink);\n",
              "        }\n",
              "      </script>\n",
              "    </div>\n",
              "  </div>\n",
              "  "
            ]
          },
          "metadata": {},
          "execution_count": 29
        }
      ]
    },
    {
      "cell_type": "code",
      "source": [
        "sns.heatmap(df.corr(), annot=True)\n"
      ],
      "metadata": {
        "colab": {
          "base_uri": "https://localhost:8080/",
          "height": 322
        },
        "id": "JP1A3WXNSLMf",
        "outputId": "591b89e6-c236-4148-bc5b-c779a7eaa25d"
      },
      "execution_count": null,
      "outputs": [
        {
          "output_type": "execute_result",
          "data": {
            "text/plain": [
              "<matplotlib.axes._subplots.AxesSubplot at 0x7f319cfb3d10>"
            ]
          },
          "metadata": {},
          "execution_count": 32
        },
        {
          "output_type": "display_data",
          "data": {
            "text/plain": [
              "<Figure size 432x288 with 2 Axes>"
            ],
            "image/png": "[encoded data removed]"
          },
          "metadata": {
            "needs_background": "light"
          }
        }
      ]
    },
    {
      "cell_type": "code",
      "source": [
        "from sklearn.model_selection import train_test_split\n",
        "y=df.status\n",
        "x=df.drop(['status','Measure','Food','Carbs' ],axis=1)\n"
      ],
      "metadata": {
        "id": "i3as1Ju9ViC3"
      },
      "execution_count": null,
      "outputs": []
    },
    {
      "cell_type": "code",
      "source": [
        "x_train, x_test, y_train, y_test=train_test_split(x, y,test_size=0.2,random_state=1)\n"
      ],
      "metadata": {
        "id": "gcj-S7DvWwfg"
      },
      "execution_count": null,
      "outputs": []
    },
    {
      "cell_type": "code",
      "source": [
        "x_train.info()"
      ],
      "metadata": {
        "id": "NnNK1SVKYC8y",
        "outputId": "a9cd35f1-c394-4366-f90a-7ecc8e31234c",
        "colab": {
          "base_uri": "https://localhost:8080/"
        }
      },
      "execution_count": null,
      "outputs": [
        {
          "output_type": "stream",
          "name": "stdout",
          "text": [
            "<class 'pandas.core.frame.DataFrame'>\n",
            "Int64Index: 140 entries, 170 to 49\n",
            "Data columns (total 7 columns):\n",
            " #   Column    Non-Null Count  Dtype  \n",
            "---  ------    --------------  -----  \n",
            " 0   Grams     140 non-null    Int64  \n",
            " 1   Calories  140 non-null    Int64  \n",
            " 2   Protein   140 non-null    Int64  \n",
            " 3   Fat       140 non-null    Int64  \n",
            " 4   Sat.Fat   140 non-null    Int64  \n",
            " 5   Fiber     140 non-null    float64\n",
            " 6   Category  140 non-null    int64  \n",
            "dtypes: Int64(5), float64(1), int64(1)\n",
            "memory usage: 9.4 KB\n"
          ]
        }
      ]
    },
    {
      "cell_type": "code",
      "source": [
        "from sklearn.linear_model import LogisticRegression\n",
        "model=LogisticRegression()\n",
        "model.fit(x_train,y_train)\n",
        "p=model.predict(x_test)"
      ],
      "metadata": {
        "colab": {
          "base_uri": "https://localhost:8080/"
        },
        "id": "1cbbULKlTfsN",
        "outputId": "b70f4cde-54d8-4974-c1c1-5b13a6c8e14a"
      },
      "execution_count": null,
      "outputs": [
        {
          "output_type": "stream",
          "name": "stderr",
          "text": [
            "/usr/local/lib/python3.7/dist-packages/sklearn/linear_model/_logistic.py:818: ConvergenceWarning: lbfgs failed to converge (status=1):\n",
            "STOP: TOTAL NO. of ITERATIONS REACHED LIMIT.\n",
            "\n",
            "Increase the number of iterations (max_iter) or scale the data as shown in:\n",
            "    https://scikit-learn.org/stable/modules/preprocessing.html\n",
            "Please also refer to the documentation for alternative solver options:\n",
            "    https://scikit-learn.org/stable/modules/linear_model.html#logistic-regression\n",
            "  extra_warning_msg=_LOGISTIC_SOLVER_CONVERGENCE_MSG,\n"
          ]
        }
      ]
    },
    {
      "cell_type": "code",
      "source": [
        "print(p)\n"
      ],
      "metadata": {
        "id": "CLZE5ZmtZ1Wa",
        "outputId": "1d815e93-6da0-46e7-85ed-ed9bec7b0893",
        "colab": {
          "base_uri": "https://localhost:8080/"
        }
      },
      "execution_count": null,
      "outputs": [
        {
          "output_type": "stream",
          "name": "stdout",
          "text": [
            "[1 0 0 0 1 1 1 1 1 0 1 0 1 1 0 1 1 1 1 0 0 1 0 0 0 1 1 0 1 1 0 1 1 1 0 1]\n"
          ]
        }
      ]
    },
    {
      "cell_type": "code",
      "source": [
        "print(y_test)"
      ],
      "metadata": {
        "id": "WOGVqgNXamwe",
        "outputId": "5525086e-603d-4ff7-e572-958acbd76f64",
        "colab": {
          "base_uri": "https://localhost:8080/"
        }
      },
      "execution_count": null,
      "outputs": [
        {
          "output_type": "stream",
          "name": "stdout",
          "text": [
            "201    1\n",
            "266    0\n",
            "24     0\n",
            "85     0\n",
            "68     1\n",
            "277    1\n",
            "244    0\n",
            "18     1\n",
            "317    1\n",
            "236    0\n",
            "15     1\n",
            "8      0\n",
            "239    0\n",
            "57     1\n",
            "267    0\n",
            "259    1\n",
            "303    1\n",
            "47     1\n",
            "264    0\n",
            "43     0\n",
            "66     0\n",
            "96     1\n",
            "327    0\n",
            "89     0\n",
            "55     0\n",
            "149    1\n",
            "62     1\n",
            "38     0\n",
            "21     1\n",
            "233    1\n",
            "308    0\n",
            "313    1\n",
            "302    1\n",
            "9      1\n",
            "309    0\n",
            "172    1\n",
            "Name: status, dtype: int64\n"
          ]
        }
      ]
    },
    {
      "cell_type": "code",
      "source": [
        "from sklearn.metrics import precision_score\n",
        "print(precision_score(y_test,p))"
      ],
      "metadata": {
        "id": "AqJoeAVtbR6p",
        "outputId": "83585a00-c402-41fa-af5f-7493cd85579c",
        "colab": {
          "base_uri": "https://localhost:8080/"
        }
      },
      "execution_count": null,
      "outputs": [
        {
          "output_type": "stream",
          "name": "stdout",
          "text": [
            "0.8636363636363636\n"
          ]
        }
      ]
    },
    {
      "cell_type": "code",
      "source": [
        ""
      ],
      "metadata": {
        "id": "OhY0ofPtcLhH"
      },
      "execution_count": null,
      "outputs": []
    }
  ]
}